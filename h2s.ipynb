{
 "cells": [
  {
   "cell_type": "markdown",
   "metadata": {},
   "source": [
    "# Rotational-vibrational solutions for H2S molecule"
   ]
  },
  {
   "cell_type": "code",
   "execution_count": 1,
   "metadata": {},
   "outputs": [],
   "source": [
    "import jax\n",
    "import numpy as np\n",
    "from jax import config\n",
    "from jax import numpy as jnp\n",
    "from numpy.polynomial.hermite import hermgauss\n",
    "from scipy import optimize\n",
    "\n",
    "from rovib.h2s_potential import potential\n",
    "from rovib.keo import Molecule, batch_Gmat, batch_pseudo, com\n",
    "from rovib.primbas import hermite\n",
    "from rovib.symtop import rotme_cor, rotme_ovlp, rotme_rot\n",
    "from rovib.vib_xy2 import vibrations_xy2\n",
    "from rovib import c2v\n",
    "\n",
    "config.update(\"jax_enable_x64\", True)"
   ]
  },
  {
   "cell_type": "markdown",
   "metadata": {},
   "source": [
    "Define atomic masses and internal coordinates for describing vibrations. Here, we use valence-bond coordinates, $r_1\\equiv \\text{S--H}_1$, $r_2\\equiv \\text{S--H}_2$, and $\\alpha = \\angle\\text{H}_1\\text{SH}_2$.\n",
    "\n",
    "The function `valence_bond_coordinates` is required to build the kinetic energy operator."
   ]
  },
  {
   "cell_type": "code",
   "execution_count": 2,
   "metadata": {},
   "outputs": [],
   "source": [
    "NCOO = 3 # number of vibrational coordinates\n",
    "MASS_S = 31.97207070\n",
    "MASS_H = 1.00782505\n",
    "\n",
    "@com\n",
    "def valence_bond_coordinates(coords):\n",
    "    r1, r2, alpha = coords\n",
    "    return jnp.array(\n",
    "        [\n",
    "            [0.0, 0.0, 0.0],\n",
    "            [r1 * jnp.cos(alpha / 2), 0.0, r1 * jnp.sin(alpha / 2)],\n",
    "            [r2 * jnp.cos(alpha / 2), 0.0, -r2 * jnp.sin(alpha / 2)],\n",
    "        ]\n",
    "    )\n",
    "\n",
    "Molecule.masses = np.array([MASS_S, MASS_H, MASS_H])\n",
    "Molecule.internal_to_cartesian = valence_bond_coordinates"
   ]
  },
  {
   "cell_type": "markdown",
   "metadata": {},
   "source": [
    "We will employ Hermite functions $H_n(x)e^{-x^2/2}$ as vibrational basis functions and Gauss-Hermite quadratures for computing matrix elements.\n",
    "The Hermite functions are defined on the coordinate range $x\\in(-\\infty,\\infty)$. In order to map $x$ into our vibrational valence bond coordinates $r_1\\in(0,\\infty)$, $r_2\\in(0,\\infty)$, and $\\alpha=(0,\\pi)$, we use linear function $r=ax+b$"
   ]
  },
  {
   "cell_type": "code",
   "execution_count": 3,
   "metadata": {},
   "outputs": [
    {
     "name": "stdout",
     "output_type": "stream",
     "text": [
      "min of the potential: [1.3358387  1.3358387  1.61042427] -0.0007846164037204629\n",
      "x->r linear mapping parameters 'a' and 'b': [0.11245619 0.11245619 0.17845517] [1.3358387  1.3358387  1.61042427]\n"
     ]
    }
   ],
   "source": [
    "vmin = optimize.minimize(potential, [1.0, 1.0, np.pi / 2])\n",
    "r0 = vmin.x\n",
    "v0 = vmin.fun\n",
    "print(\"min of the potential:\", r0, v0)\n",
    "\n",
    "freq = np.diag(jax.hessian(potential)(r0))  # NOTE multiply by 2?\n",
    "mu = np.diag(batch_Gmat(jnp.array([r0]))[0, :NCOO, :NCOO])\n",
    "lin_a = np.sqrt(np.sqrt(mu / freq))\n",
    "lin_b = r0\n",
    "\n",
    "print(\"x->r linear mapping parameters 'a' and 'b':\", lin_a, lin_b)\n",
    "\n",
    "x_to_r_map = lambda x: lin_a * x + lin_b"
   ]
  },
  {
   "cell_type": "code",
   "execution_count": 4,
   "metadata": {},
   "outputs": [
    {
     "name": "stdout",
     "output_type": "stream",
     "text": [
      "\n",
      "Solve for coordinate #0\n",
      "energies:\n",
      "3337.3945251332743 [     0.           2622.78234885   5150.20518524   7582.4678558\n",
      "   9919.70554205  12164.50975541  14343.30102081  16563.82374237\n",
      "  18993.88593035  21727.63458668  24794.39790399  28188.39606251\n",
      "  31915.83174881  36157.40998912  40470.55415716  45509.19492507\n",
      "  55777.84304183  78535.64469475 130761.97020122 292130.27272365]\n",
      "\n",
      "Solve for coordinate #1\n",
      "energies:\n",
      "3337.3945251420123 [     0.           2622.78234885   5150.20518524   7582.4678558\n",
      "   9919.70554205  12164.5097554   14343.30102081  16563.82374236\n",
      "  18993.88593031  21727.63458661  24794.39790389  28188.39606238\n",
      "  31915.83174865  36157.40998892  40470.55415693  45509.19492476\n",
      "  55777.84304143  78535.64469421 130761.97020033 292130.27272174]\n",
      "\n",
      "Solve for coordinate #2\n",
      "energies:\n",
      "3381.0291550488237 [    0.          1214.01682721  2422.18421732  3624.08614385\n",
      "  4819.27800458  6007.28844615  7187.64292047  8359.92027977\n",
      "  9523.84423656 10679.39786578 11826.92835376 12967.2493325\n",
      " 14101.4910195  15233.55784564 16365.51254646 17529.81329593\n",
      " 18721.50187871 20055.82639363 21367.61610456 22975.2009588 ]\n"
     ]
    }
   ],
   "source": [
    "# list of 1D primitive basis functions for each vibrational coordinate\n",
    "list_psi = (hermite, hermite, hermite)\n",
    "\n",
    "# number of primitive basis functions for each vibrational coordinate\n",
    "nmax = 20\n",
    "\n",
    "# number of quadrature points for each vibrational coordinate\n",
    "npoints = 60\n",
    "\n",
    "vec = []\n",
    "\n",
    "for icoo in range(NCOO):\n",
    "    print(f\"\\nSolve for coordinate #{icoo}\")\n",
    "\n",
    "    # quanta, set quanta to zero for all coordinates except `icoo`\n",
    "    list_q = [np.arange(nmax) if i == icoo else [0] for i in range(NCOO)]\n",
    "\n",
    "    # quadratures, reduce number of points for all coordinates except `icoo`\n",
    "    n = [npoints if i == icoo else 10 for i in range(NCOO)]\n",
    "    n1, n2, n3 = n\n",
    "    x1, w1 = hermgauss(n1)\n",
    "    x2, w2 = hermgauss(n2)\n",
    "    x3, w3 = hermgauss(n3)\n",
    "    w1 /= np.exp(-(x1**2))\n",
    "    w2 /= np.exp(-(x2**2))\n",
    "    w3 /= np.exp(-(x3**2))\n",
    "    list_x = (x1, x2, x3)\n",
    "    list_w = (w1, w2, w3)\n",
    "\n",
    "    # solve for basis functions for `icoo` vibrational coordinate\n",
    "    e, v, *_ = vibrations_xy2(\n",
    "        list_psi,\n",
    "        list_x,\n",
    "        list_w,\n",
    "        list_q,\n",
    "        select_points=lambda x, w: True,\n",
    "        select_quanta=lambda q: np.sum(q * np.array([1, 1, 1])) <= nmax,\n",
    "        x_to_r_map=x_to_r_map,\n",
    "        gmat=lambda x: batch_Gmat(x),\n",
    "        pseudo=batch_pseudo,\n",
    "        potential=potential,\n",
    "    )\n",
    "\n",
    "    # keep eigenvectors\n",
    "    vec.append(v)\n",
    "\n",
    "    print(f\"energies:\")\n",
    "    print(e[0], e - e[0])"
   ]
  },
  {
   "cell_type": "markdown",
   "metadata": {},
   "source": [
    "Transform primitive basis to the basis of eigenfunctions of three solutions and solve 3D problem in full basis."
   ]
  },
  {
   "cell_type": "code",
   "execution_count": 5,
   "metadata": {},
   "outputs": [],
   "source": [
    "# primitive to contracted basis\n",
    "list_psi = [\n",
    "    lambda x, n: jnp.dot(hermite(x, n), vec[0]),\n",
    "    lambda x, n: jnp.dot(hermite(x, n), vec[1]),\n",
    "    lambda x, n: jnp.dot(hermite(x, n), vec[2]),\n",
    "]"
   ]
  },
  {
   "cell_type": "code",
   "execution_count": 6,
   "metadata": {},
   "outputs": [
    {
     "ename": "NameError",
     "evalue": "name 'gr' is not defined",
     "output_type": "error",
     "traceback": [
      "\u001b[0;31m---------------------------------------------------------------------------\u001b[0m",
      "\u001b[0;31mNameError\u001b[0m                                 Traceback (most recent call last)",
      "Cell \u001b[0;32mIn[6], line 1\u001b[0m\n\u001b[0;32m----> 1\u001b[0m \u001b[43mgr\u001b[49m\u001b[38;5;241m.\u001b[39mshape\n",
      "\u001b[0;31mNameError\u001b[0m: name 'gr' is not defined"
     ]
    }
   ],
   "source": [
    "gr.shape"
   ]
  },
  {
   "cell_type": "code",
   "execution_count": null,
   "metadata": {},
   "outputs": [],
   "source": []
  }
 ],
 "metadata": {
  "kernelspec": {
   "display_name": "Python 3",
   "language": "python",
   "name": "python3"
  },
  "language_info": {
   "codemirror_mode": {
    "name": "ipython",
    "version": 3
   },
   "file_extension": ".py",
   "mimetype": "text/x-python",
   "name": "python",
   "nbconvert_exporter": "python",
   "pygments_lexer": "ipython3",
   "version": "3.12.2"
  }
 },
 "nbformat": 4,
 "nbformat_minor": 2
}
