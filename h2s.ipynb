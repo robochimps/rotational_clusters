{
 "cells": [
  {
   "cell_type": "code",
   "execution_count": 2,
   "metadata": {},
   "outputs": [
    {
     "name": "stderr",
     "output_type": "stream",
     "text": [
      "/gpfs/cfel/group/cmi/common/psi4/psi4conda/lib/python3.10/pty.py:89: RuntimeWarning: os.fork() was called. os.fork() is incompatible with multithreaded code, and JAX is multithreaded, so this will likely lead to a deadlock.\n",
      "  pid, fd = os.forkpty()\n"
     ]
    }
   ],
   "source": [
    "! export JAX_PLATFORMS=cpu"
   ]
  },
  {
   "cell_type": "markdown",
   "metadata": {},
   "source": [
    "# Rotational-vibrational solutions for H2S molecule (rotational cluster states)"
   ]
  },
  {
   "cell_type": "code",
   "execution_count": 1,
   "metadata": {},
   "outputs": [],
   "source": [
    "import jax\n",
    "import numpy as np\n",
    "from jax import config\n",
    "from jax import numpy as jnp\n",
    "from numpy.polynomial.hermite import hermgauss\n",
    "from scipy import optimize\n",
    "\n",
    "from rovib.h2s_potential import potential\n",
    "from rovib.keo import Molecule, batch_Gmat, batch_pseudo, com\n",
    "from rovib.primbas import hermite\n",
    "from rovib.symtop import rotme_cor, rotme_ovlp, rotme_rot\n",
    "from rovib.vib_xy2 import vibrations_xy2\n",
    "from rovib import c2v\n",
    "\n",
    "config.update(\"jax_enable_x64\", True)"
   ]
  },
  {
   "cell_type": "markdown",
   "metadata": {},
   "source": [
    "## Vibrational coordinates"
   ]
  },
  {
   "cell_type": "markdown",
   "metadata": {},
   "source": [
    "Define atomic masses and internal coordinates for describing vibrations. Here, we use the valence-bond coordinates, $r_1\\equiv \\text{S--H}_1$, $r_2\\equiv \\text{S--H}_2$, and $\\alpha = \\angle\\text{H}_1\\text{SH}_2$. The function `valence_bond_coordinates` is required to build the kinetic energy operator."
   ]
  },
  {
   "cell_type": "code",
   "execution_count": 2,
   "metadata": {},
   "outputs": [],
   "source": [
    "NCOO = 3 # number of vibrational coordinates\n",
    "MASS_S = 31.97207070\n",
    "MASS_H = 1.00782505\n",
    "\n",
    "@com\n",
    "def valence_bond_coordinates(coords):\n",
    "    r1, r2, alpha = coords\n",
    "    return jnp.array(\n",
    "        [\n",
    "            [0.0, 0.0, 0.0],\n",
    "            [r1 * jnp.cos(alpha / 2), 0.0, r1 * jnp.sin(alpha / 2)],\n",
    "            [r2 * jnp.cos(alpha / 2), 0.0, -r2 * jnp.sin(alpha / 2)],\n",
    "        ]\n",
    "    )\n",
    "\n",
    "Molecule.masses = np.array([MASS_S, MASS_H, MASS_H])\n",
    "Molecule.internal_to_cartesian = valence_bond_coordinates"
   ]
  },
  {
   "cell_type": "markdown",
   "metadata": {},
   "source": [
    "We use Hermite functions $H_n(x)e^{-x^2/2}$ as the vibrational basis functions and employ Gauss-Hermite quadratures for computing matrix elements.\n",
    "\n",
    "The Hermite functions are defined over the coordinate range $x\\in(-\\infty,\\infty)$. To map $x$ into the vibrational valence bond coordinates $r_1\\in(0,\\infty)$, $r_2\\in(0,\\infty)$, and $\\alpha=(0,\\pi)$,\n",
    "we use linear transformations $r_1=a_1x_1+b_1$, $r_2=a_2x_2+b_2$, $\\alpha=a_3x_3+b_3$.\n",
    "The parameters $a_1, b_1, ..., b_3$ are determined by mapping the vibrational Hamiltonian in valence-bond coordinates onto the harmonic oscillator Hamiltonian."
   ]
  },
  {
   "cell_type": "code",
   "execution_count": 3,
   "metadata": {},
   "outputs": [
    {
     "name": "stdout",
     "output_type": "stream",
     "text": [
      "mininum of the potential: [1.3358387  1.3358387  1.61042427] -0.0007846164037204629\n",
      "x->r linear mapping parameters 'a' and 'b': [0.11245619 0.11245619 0.17845517] [1.3358387  1.3358387  1.61042427]\n"
     ]
    }
   ],
   "source": [
    "vmin = optimize.minimize(potential, [1.0, 1.0, np.pi / 2])\n",
    "r0 = vmin.x\n",
    "v0 = vmin.fun\n",
    "print(\"mininum of the potential:\", r0, v0)\n",
    "\n",
    "freq = jnp.diag(jax.hessian(potential)(r0))\n",
    "mu = jnp.diag(batch_Gmat(jnp.array([r0]))[0, :NCOO, :NCOO])\n",
    "lin_a = jnp.sqrt(jnp.sqrt(mu / freq))\n",
    "lin_b = r0\n",
    "\n",
    "print(\"x->r linear mapping parameters 'a' and 'b':\", lin_a, lin_b)\n",
    "\n",
    "# x->r linear mapping function\n",
    "x_to_r_map = lambda x: lin_a * x + lin_b"
   ]
  },
  {
   "cell_type": "markdown",
   "metadata": {},
   "source": [
    "## Vibrational basis set contraction\n",
    "\n",
    "To optimize the vibrational basis set, we begin by solving a simplified vibrational problem for each individual vibrational coordinate.\n",
    "For this, we set the basis functions for all coordinates to $e^{−x^2/2}$ except for one.\n",
    "We then use the corresponding solutions obtained sequentially for each coordinate to construct a contracted product basis set."
   ]
  },
  {
   "cell_type": "code",
   "execution_count": 4,
   "metadata": {},
   "outputs": [
    {
     "name": "stdout",
     "output_type": "stream",
     "text": [
      "\n",
      "Solve for coordinate #0\n",
      "energies:\n",
      "3337.3945251327827 [0.00000000e+00 2.62278235e+03 5.15020514e+03 7.58246436e+03\n",
      " 9.91956242e+03 1.21613549e+04 1.43075890e+04 1.63579482e+04\n",
      " 1.83123940e+04 2.01753782e+04 2.19804107e+04 2.38279199e+04\n",
      " 2.58337642e+04 2.80450416e+04 3.04613694e+04 3.30740045e+04\n",
      " 3.58769744e+04 3.88679012e+04 4.20472946e+04 4.54181980e+04\n",
      " 4.89859992e+04 5.27577540e+04 5.67453996e+04 6.09584058e+04\n",
      " 6.54167889e+04 7.01557847e+04 7.51299753e+04 8.05653155e+04\n",
      " 8.63724076e+04 9.19469603e+04 1.00529194e+05 1.18644018e+05\n",
      " 1.52570839e+05 2.14310500e+05 3.31561510e+05 5.69151477e+05\n",
      " 1.08710878e+06 2.31554408e+06 5.58548925e+06 1.63735418e+07]\n",
      "\n",
      "Solve for coordinate #1\n",
      "energies:\n",
      "3337.3945251415216 [0.00000000e+00 2.62278235e+03 5.15020514e+03 7.58246436e+03\n",
      " 9.91956242e+03 1.21613549e+04 1.43075890e+04 1.63579482e+04\n",
      " 1.83123940e+04 2.01753782e+04 2.19804107e+04 2.38279199e+04\n",
      " 2.58337642e+04 2.80450416e+04 3.04613694e+04 3.30740045e+04\n",
      " 3.58769744e+04 3.88679012e+04 4.20472946e+04 4.54181980e+04\n",
      " 4.89859992e+04 5.27577540e+04 5.67453996e+04 6.09584058e+04\n",
      " 6.54167889e+04 7.01557847e+04 7.51299753e+04 8.05653155e+04\n",
      " 8.63724076e+04 9.19469603e+04 1.00529194e+05 1.18644018e+05\n",
      " 1.52570839e+05 2.14310500e+05 3.31561510e+05 5.69151477e+05\n",
      " 1.08710878e+06 2.31554408e+06 5.58548925e+06 1.63735418e+07]\n",
      "\n",
      "Solve for coordinate #2\n",
      "energies:\n",
      "3381.029155048824 [     0.           1214.01682721   2422.18421732   3624.08614385\n",
      "   4819.27800458   6007.28844613   7187.64292016   8359.92027555\n",
      "   9523.84417992  10679.39708421  11826.92255318  12967.15732391\n",
      "  14101.1270945   15229.8733044   16354.04578197  17473.44048213\n",
      "  18586.48702287  19689.13743348  20765.44285001  21536.7424302\n",
      "  22000.28770774  23032.74328785  24138.07842749  25289.26547499\n",
      "  26489.77716635  27747.88284783  29060.07649153  30428.10840103\n",
      "  31861.02813145  33329.6947299   34907.53104887  36463.30465424\n",
      "  38222.7089488   39878.5145524   41866.56487772  43712.85939686\n",
      "  45614.72682722  54001.77925839  77754.34422685 157547.87984462]\n"
     ]
    }
   ],
   "source": [
    "# list of 1D primitive basis functions for each vibrational coordinate\n",
    "list_psi = (hermite, hermite, hermite)\n",
    "\n",
    "# number of primitive basis functions for each vibrational coordinate\n",
    "nmax = 40\n",
    "\n",
    "# number of quadrature points for each vibrational coordinate\n",
    "npoints = 80\n",
    "\n",
    "contr_vec = []\n",
    "\n",
    "for icoo in range(NCOO):\n",
    "    print(f\"\\nSolve for coordinate #{icoo}\")\n",
    "\n",
    "    # quanta, set quanta to zero for all coordinates except the `icoo`\n",
    "    list_q = [np.arange(nmax) if i == icoo else [0] for i in range(NCOO)]\n",
    "\n",
    "    # quadratures, reduce number of points for all coordinates except the `icoo`\n",
    "    n = [npoints if i == icoo else 10 for i in range(NCOO)]\n",
    "    n1, n2, n3 = n\n",
    "    x1, w1 = hermgauss(n1)\n",
    "    x2, w2 = hermgauss(n2)\n",
    "    x3, w3 = hermgauss(n3)\n",
    "    w1 /= np.exp(-(x1**2))\n",
    "    w2 /= np.exp(-(x2**2))\n",
    "    w3 /= np.exp(-(x3**2))\n",
    "    list_x = (x1, x2, x3)\n",
    "    list_w = (w1, w2, w3)\n",
    "\n",
    "    # solve for basis functions for the `icoo` vibrational coordinate\n",
    "    e, v, *_ = vibrations_xy2(\n",
    "        list_psi,\n",
    "        list_x,\n",
    "        list_w,\n",
    "        list_q,\n",
    "        select_points=lambda x, w: True,\n",
    "        select_quanta=lambda q: np.sum(q * np.array([1, 1, 1])) <= nmax,\n",
    "        x_to_r_map=x_to_r_map,\n",
    "        gmat=lambda x: batch_Gmat(x),\n",
    "        pseudo=batch_pseudo,\n",
    "        potential=potential,\n",
    "    )\n",
    "\n",
    "    # keep eigenvectors\n",
    "    contr_vec.append(v)\n",
    "\n",
    "    print(f\"energies:\")\n",
    "    print(e[0], e - e[0])"
   ]
  },
  {
   "cell_type": "markdown",
   "metadata": {},
   "source": [
    "Transform primitive basis"
   ]
  },
  {
   "cell_type": "code",
   "execution_count": 5,
   "metadata": {},
   "outputs": [],
   "source": [
    "# override primitive basis with contracted basis\n",
    "list_psi = [\n",
    "    lambda x, n: jnp.dot(hermite(x, n), contr_vec[0]),\n",
    "    lambda x, n: jnp.dot(hermite(x, n), contr_vec[1]),\n",
    "    lambda x, n: jnp.dot(hermite(x, n), contr_vec[2]),\n",
    "]"
   ]
  },
  {
   "cell_type": "markdown",
   "metadata": {},
   "source": [
    "## Vibrational energies and matrix elements\n",
    "\n",
    "Using the optimized basis set from the previous step, we solve the vibrational problem employing a polyad basis set truncation.\n",
    "In this approach, we include only those products of functions in the basis set for which the sum of the corresponding quanta, weighted by specific factors,\n",
    "is less than or equal to a certain maximum value.\n",
    "Specifically, we include basis functions that satisfy the condition $2n_1+2n_2+n_3\\leq P_\\text{max}$, where $n_1$, $n_2$, and $n_3$ are the quantum numbers for the two stretching and one bending coordinates, respectively."
   ]
  },
  {
   "cell_type": "code",
   "execution_count": 6,
   "metadata": {},
   "outputs": [],
   "source": [
    "# polyad number for basis set truncation \n",
    "pmax = 20\n",
    "\n",
    "# quanta\n",
    "list_q = [np.arange(nmax) for i in range(NCOO)]\n",
    "\n",
    "# quadratures\n",
    "n = [npoints for i in range(NCOO)]\n",
    "n1, n2, n3 = n\n",
    "x1, w1 = hermgauss(n1)\n",
    "x2, w2 = hermgauss(n2)\n",
    "x3, w3 = hermgauss(n3)\n",
    "w1 /= np.exp(-(x1**2))\n",
    "w2 /= np.exp(-(x2**2))\n",
    "w3 /= np.exp(-(x3**2))\n",
    "list_x = (x1, x2, x3)\n",
    "list_w = (w1, w2, w3)\n",
    "\n",
    "# solutions, including vibrational matrix elements of rotational part of kinetic energy operator\n",
    "vib_enr, vib_vec, vib_quanta, grot_me, gcor_me = vibrations_xy2(\n",
    "    list_psi,\n",
    "    list_x,\n",
    "    list_w,\n",
    "    list_q,\n",
    "    select_points=lambda x, w: True,\n",
    "    select_quanta=lambda q: np.sum(q * np.array([2, 2, 1])) <= pmax,\n",
    "    x_to_r_map=x_to_r_map,\n",
    "    gmat=lambda x: batch_Gmat(x),\n",
    "    pseudo=batch_pseudo,\n",
    "    potential=potential,\n",
    "    assign_c2v=True, # assign symmetries to vibrational states\n",
    ")\n",
    "\n",
    "nbas_vib = len(vib_quanta)"
   ]
  },
  {
   "cell_type": "markdown",
   "metadata": {},
   "source": [
    "Print vibrational energies with asssignments"
   ]
  },
  {
   "cell_type": "code",
   "execution_count": 7,
   "metadata": {},
   "outputs": [
    {
     "name": "stdout",
     "output_type": "stream",
     "text": [
      "number of vibrational states: 30\n",
      "0.0 ['0' '0' '0' 'A1']\n",
      "1182.6019171049188 ['0' '0' '1' 'A1']\n",
      "2353.99991879291 ['0' '0' '2' 'A1']\n",
      "2614.48450331887 ['0' '1' '0' 'B2']\n",
      "2628.524092632047 ['1' '0' '0' 'A1']\n",
      "3514.215880050119 ['0' '0' '3' 'A1']\n",
      "3779.3804461614004 ['0' '1' '1' 'A1']\n",
      "3789.4500066057685 ['1' '0' '1' 'B2']\n",
      "4675.7908528716525 ['0' '0' '4' 'B2']\n",
      "4946.579164633518 ['0' '1' '2' 'B2']\n",
      "4946.5863650371975 ['1' '0' '2' 'A1']\n",
      "5149.410684954244 ['0' '2' '0' 'B2']\n",
      "5150.874150988686 ['2' '0' '0' 'A1']\n",
      "5246.221850916738 ['1' '1' '0' 'B2']\n",
      "5871.321800720709 ['0' '0' '5' 'A1']\n",
      "6109.887230834836 ['1' '0' '3' 'A1']\n",
      "6136.103811532581 ['0' '1' '3' 'A1']\n",
      "6303.28457809682 ['2' '0' '1' 'B2']\n",
      "6303.500275706705 ['0' '2' '1' 'A1']\n",
      "6398.093470972177 ['1' '1' '1' 'A1']\n",
      "7029.914384024054 ['0' '0' '6' 'A1']\n",
      "7267.954519658317 ['1' '0' '4' 'A1']\n",
      "7308.673113198223 ['0' '1' '4' 'A1']\n",
      "7461.908444889637 ['2' '0' '2' 'A1']\n",
      "7464.756764781998 ['0' '2' '2' 'A1']\n",
      "7559.917495854277 ['1' '1' '2' 'B2']\n",
      "7585.177010874349 ['0' '3' '0' 'B2']\n",
      "7585.195166667765 ['3' '0' '0' 'B2']\n",
      "7760.539020145865 ['2' '1' '0' 'A1']\n",
      "7788.514057248045 ['1' '2' '0' 'A1']\n"
     ]
    }
   ],
   "source": [
    "print(\"number of vibrational states:\", nbas_vib)\n",
    "\n",
    "ind = np.argmax(np.abs(vib_vec), axis=0)\n",
    "zpe = vib_enr[0]\n",
    "for e, q in zip(vib_enr, vib_quanta[ind]):\n",
    "    print(e - zpe, q)"
   ]
  },
  {
   "cell_type": "markdown",
   "metadata": {},
   "source": [
    "## Rotational basis and matrix elements\n",
    "\n",
    "For a selected $J$ quantum number of the rotational angular momentum, compute matrix elements $\\lang J',k',\\tau'|J,k,\\tau \\rang$, $\\lang J',k',\\tau'|\\hat{J}_\\alpha\\hat{J}_\\beta|J,k,\\tau \\rang$, and $\\lang J',k',\\tau'|\\hat{J}_\\alpha|J,k,\\tau \\rang$ ($\\alpha,\\beta=x,y,z$). Where $|J,k,\\tau\\rang$ are symmetric-top functions in Wang's (symmetry-adapted) representation, $k=0..J$ and $\\tau=0,1$ (parity)."
   ]
  },
  {
   "cell_type": "code",
   "execution_count": 8,
   "metadata": {},
   "outputs": [
    {
     "name": "stdout",
     "output_type": "stream",
     "text": [
      "rotational angular momentum: 10\n",
      "number of rotational states: 21\n"
     ]
    }
   ],
   "source": [
    "j_angmom = 10\n",
    "\n",
    "# matrix elements <jk'|jk>\n",
    "s_rot, _, jktau_quanta = rotme_ovlp(j_angmom)\n",
    "\n",
    "# matrix elements <jk'|Ja*Jb|jk>\n",
    "jab_rot, *_ = rotme_rot(j_angmom)\n",
    "\n",
    "# matrix elements <jk'|i*Ja|jk>\n",
    "ja_rot, *_ = rotme_cor(j_angmom)\n",
    "\n",
    "nbas_rot = len(jktau_quanta)\n",
    "\n",
    "print(\"rotational angular momentum:\", j_angmom)\n",
    "print(\"number of rotational states:\", nbas_rot)"
   ]
  },
  {
   "cell_type": "markdown",
   "metadata": {},
   "source": [
    "## Symmetry-adapted rovibrational basis and solutions"
   ]
  },
  {
   "cell_type": "code",
   "execution_count": 11,
   "metadata": {},
   "outputs": [],
   "source": [
    "# combine vibrational and rotational quanta [(v1, v2, v3, vib_sym, j, k, tau, rot_sym), ...]\n",
    "rovib_quanta = np.concatenate(\n",
    "    (\n",
    "        vib_quanta[:, None, :].repeat(nbas_rot, axis=1),\n",
    "        jktau_quanta[None, :, :].repeat(nbas_vib, axis=0),\n",
    "    ),\n",
    "    axis=-1,\n",
    ").reshape(-1, 8)\n",
    "\n",
    "# mapping between rovibrational state index and indices of vibrational and rotational functions\n",
    "rovib_ind = np.concatenate(\n",
    "    (\n",
    "        np.arange(nbas_vib)[:, None, None].repeat(nbas_rot, axis=1),\n",
    "        np.arange(nbas_rot)[None, :, None].repeat(nbas_vib, axis=0),\n",
    "    ),\n",
    "    axis=-1,\n",
    ").reshape(-1, 2)\n",
    "\n",
    "# symmetry of rovibrational product prod_sym = vib_sym * rot_sym\n",
    "prod_sym = np.array(\n",
    "    [c2v.C2V_PRODUCT_TABLE[(sym1, sym2)] for (sym1, sym2) in rovib_quanta[:, (3, 7)]]\n",
    ")\n",
    "# update rovibrational quanta [(j, prod_sym, v1, v2, v3, vib_sym, k, tau, rot_sym), ...]\n",
    "rovib_quanta = np.concatenate(\n",
    "    (prod_sym[:, None], rovib_quanta[:, (4, 0, 1, 2, 3, 5, 6, 7)]), axis=-1\n",
    ")\n",
    "\n",
    "# identify indices of rovibrational product states for each symmetry\n",
    "ind_sym = {sym: np.where(rovib_quanta[:, 0] == sym)[0] for sym in c2v.C2V_IRREPS}\n",
    "\n",
    "# ... indices of vibrational and rotational product states for each symmetry\n",
    "rovib_ind_sym = {sym: rovib_ind[ind] for sym, ind in ind_sym.items()}"
   ]
  },
  {
   "cell_type": "markdown",
   "metadata": {},
   "source": [
    "Compute and diagonalise total Hamiltonian matrix for different symmetries"
   ]
  },
  {
   "cell_type": "code",
   "execution_count": 12,
   "metadata": {},
   "outputs": [
    {
     "name": "stdout",
     "output_type": "stream",
     "text": [
      "568.4786984963566 ['A1' '10' '0' '0' '0' 'A1' '2' '0' 'A1']\n",
      "742.8545938001312 ['A1' '10' '0' '0' '0' 'A1' '6' '0' 'A1']\n",
      "875.6312286792177 ['A1' '10' '0' '0' '0' 'A1' '6' '0' 'A1']\n",
      "960.9041485108969 ['A1' '10' '0' '0' '0' 'A1' '2' '0' 'A1']\n",
      "1013.3357425131103 ['A1' '10' '0' '0' '0' 'A1' '10' '0' 'A1']\n",
      "1094.4834874846879 ['A1' '10' '0' '0' '0' 'A1' '10' '0' 'A1']\n",
      "1747.7634786266185 ['A1' '10' '0' '0' '1' 'A1' '2' '0' 'A1']\n",
      "1934.0292235030834 ['A1' '10' '0' '0' '1' 'A1' '6' '0' 'A1']\n",
      "2075.254397067823 ['A1' '10' '0' '0' '1' 'A1' '6' '0' 'A1']\n",
      "2164.9033372928793 ['A1' '10' '0' '0' '1' 'A1' '2' '0' 'A1']\n",
      "660.9006593803101 ['A2' '10' '0' '0' '0' 'A1' '5' '1' 'A2']\n",
      "814.4572509163704 ['A2' '10' '0' '0' '0' 'A1' '5' '1' 'A2']\n",
      "925.4387711647519 ['A2' '10' '0' '0' '0' 'A1' '7' '1' 'A2']\n",
      "985.3550088632469 ['A2' '10' '0' '0' '0' 'A1' '1' '1' 'A2']\n",
      "1051.4839476570455 ['A2' '10' '0' '0' '0' 'A1' '9' '1' 'A2']\n",
      "1846.5899490369288 ['A2' '10' '0' '0' '1' 'A1' '3' '1' 'A2']\n",
      "2010.271121821837 ['A2' '10' '0' '0' '2' 'A1' '1' '1' 'A2']\n",
      "2127.863134610279 ['A2' '10' '0' '0' '1' 'A1' '1' '1' 'A2']\n",
      "2191.046819080982 ['A2' '10' '0' '0' '1' 'A1' '5' '1' 'A2']\n",
      "2263.7182423140544 ['A2' '10' '0' '0' '1' 'A1' '7' '1' 'A2']\n",
      "660.9006664459598 ['B1' '10' '0' '0' '0' 'A1' '8' '1' 'B1']\n",
      "814.4661473979572 ['B1' '10' '0' '0' '0' 'A1' '2' '1' 'B1']\n",
      "927.10063594744 ['B1' '10' '0' '0' '0' 'A1' '4' '1' 'B1']\n",
      "1010.10184919619 ['B1' '10' '0' '0' '0' 'A1' '8' '1' 'B1']\n",
      "1094.4723711100646 ['B1' '10' '0' '0' '0' 'A1' '10' '1' 'B1']\n",
      "1846.5899600083872 ['B1' '10' '0' '0' '1' 'A1' '2' '1' 'B1']\n",
      "2010.2836443904393 ['B1' '10' '0' '0' '1' 'A1' '6' '1' 'B1']\n",
      "2129.975939768608 ['B1' '10' '0' '0' '1' 'A1' '2' '1' 'B1']\n",
      "2218.988743614484 ['B1' '10' '0' '0' '1' 'A1' '4' '1' 'B1']\n",
      "2310.0670745771936 ['B1' '10' '0' '0' '1' 'A1' '8' '1' 'B1']\n",
      "568.478698566159 ['B2' '10' '0' '0' '0' 'A1' '3' '0' 'B2']\n",
      "742.8549199651216 ['B2' '10' '0' '0' '0' 'A1' '1' '0' 'B2']\n",
      "875.7854681256836 ['B2' '10' '0' '0' '0' 'A1' '7' '0' 'B2']\n",
      "970.3102848538724 ['B2' '10' '0' '0' '0' 'A1' '5' '0' 'B2']\n",
      "1051.1897375858412 ['B2' '10' '0' '0' '1' 'A1' '5' '0' 'B2']\n",
      "1747.763478740751 ['B2' '10' '0' '0' '1' 'A1' '1' '0' 'B2']\n",
      "1934.029705387407 ['B2' '10' '0' '0' '1' 'A1' '5' '0' 'B2']\n",
      "2075.461227610244 ['B2' '10' '0' '0' '1' 'A1' '3' '0' 'B2']\n",
      "2176.098489220443 ['B2' '10' '0' '0' '1' 'A1' '9' '0' 'B2']\n",
      "2263.4500003827447 ['B2' '10' '0' '0' '1' 'A1' '9' '0' 'B2']\n"
     ]
    }
   ],
   "source": [
    "for sym, ind in ind_sym.items():\n",
    "    vind, rind = rovib_ind[ind].T\n",
    "\n",
    "    rot_me = jnp.einsum(\n",
    "        \"ijab,ijab->ij\", grot_me[np.ix_(vind, vind)], jab_rot[np.ix_(rind, rind)]\n",
    "    )\n",
    "    cor_me = jnp.einsum(\n",
    "        \"ija,ija->ij\", gcor_me[np.ix_(vind, vind)], ja_rot[np.ix_(rind, rind)]\n",
    "    )\n",
    "    vib_me = jnp.diag(vib_enr[vind]) * s_rot[np.ix_(rind, rind)]\n",
    "    hmat = vib_me + 0.5 * (rot_me + cor_me)\n",
    "\n",
    "    enr, vec = jnp.linalg.eigh(hmat)\n",
    "    qua = rovib_quanta[ind[jnp.argmax(vec, axis=0)]]\n",
    "    for e, q in zip(enr[:10], qua[:10]):\n",
    "        print(e-zpe, q)"
   ]
  },
  {
   "cell_type": "markdown",
   "metadata": {},
   "source": [
    "Streamline for $J=0..J_\\text{max}$"
   ]
  },
  {
   "cell_type": "code",
   "execution_count": 15,
   "metadata": {},
   "outputs": [
    {
     "name": "stdout",
     "output_type": "stream",
     "text": [
      "\n",
      "rotational angular momentum: 0\n",
      "\n",
      "rotational angular momentum: 1\n",
      "\n",
      "rotational angular momentum: 2\n",
      "\n",
      "rotational angular momentum: 3\n",
      "\n",
      "rotational angular momentum: 4\n",
      "\n",
      "rotational angular momentum: 5\n",
      "\n",
      "rotational angular momentum: 6\n",
      "\n",
      "rotational angular momentum: 7\n",
      "\n",
      "rotational angular momentum: 8\n",
      "\n",
      "rotational angular momentum: 9\n",
      "\n",
      "rotational angular momentum: 10\n"
     ]
    }
   ],
   "source": [
    "Jmax = 10\n",
    "max_energy = 10000\n",
    "fl = open(f\"h2s_energies_jmax{Jmax}.txt\", \"w\")\n",
    "\n",
    "for j_angmom in range(0, Jmax + 1):\n",
    "\n",
    "    s_rot, _, ktau_quanta = rotme_ovlp(j_angmom)\n",
    "    jab_rot, *_ = rotme_rot(j_angmom)\n",
    "    ja_rot, *_ = rotme_cor(j_angmom)\n",
    "    nbas_rot = len(ktau_quanta)\n",
    "\n",
    "    print(\"\\nrotational angular momentum:\", j_angmom)\n",
    "\n",
    "    rovib_quanta = np.concatenate(\n",
    "        (\n",
    "            vib_quanta[:, None, :].repeat(nbas_rot, axis=1),\n",
    "            ktau_quanta[None, :, :].repeat(nbas_vib, axis=0),\n",
    "        ),\n",
    "        axis=-1,\n",
    "    ).reshape(-1, 8)\n",
    "\n",
    "    rovib_ind = np.concatenate(\n",
    "        (\n",
    "            np.arange(nbas_vib)[:, None, None].repeat(nbas_rot, axis=1),\n",
    "            np.arange(nbas_rot)[None, :, None].repeat(nbas_vib, axis=0),\n",
    "        ),\n",
    "        axis=-1,\n",
    "    ).reshape(-1, 2)\n",
    "\n",
    "    prod_sym = np.array(\n",
    "        [\n",
    "            c2v.C2V_PRODUCT_TABLE[(sym1, sym2)]\n",
    "            for (sym1, sym2) in rovib_quanta[:, (3, 7)]\n",
    "        ]\n",
    "    )\n",
    "    rovib_quanta = np.concatenate(\n",
    "        (prod_sym[:, None], rovib_quanta[:, (4, 0, 1, 2, 3, 5, 6, 7)]), axis=-1\n",
    "    )\n",
    "\n",
    "    ind_sym = {sym: np.where(rovib_quanta[:, 0] == sym)[0] for sym in c2v.C2V_IRREPS}\n",
    "    # rovib_ind_sym = {sym: rovib_ind[ind] for sym, ind in ind_sym.items()}\n",
    "\n",
    "    for sym, ind in ind_sym.items():\n",
    "        vind, rind = rovib_ind[ind].T\n",
    "        rot_me = jnp.einsum(\n",
    "            \"ijab,ijab->ij\", grot_me[np.ix_(vind, vind)], jab_rot[np.ix_(rind, rind)]\n",
    "        )\n",
    "        cor_me = jnp.einsum(\n",
    "            \"ija,ija->ij\", gcor_me[np.ix_(vind, vind)], ja_rot[np.ix_(rind, rind)]\n",
    "        )\n",
    "        vib_me = jnp.diag(vib_enr[vind]) * s_rot[np.ix_(rind, rind)]\n",
    "        hmat = vib_me + 0.5 * (rot_me + cor_me)\n",
    "        enr, vec = jnp.linalg.eigh(hmat)\n",
    "\n",
    "        if len(vec) == 0:\n",
    "            continue\n",
    "\n",
    "        # assignment\n",
    "        qua = rovib_quanta[ind[jnp.argmax(vec, axis=0)]]\n",
    "\n",
    "        for e, q in zip(enr, qua):\n",
    "            e_ = e - zpe\n",
    "            if e_ < max_energy:\n",
    "                fl.write(f\"{e_:18.6f}    \" + \" \".join(f\"{elem:4s}\" for elem in q) + \"\\n\")\n",
    "\n",
    "fl.close()"
   ]
  },
  {
   "cell_type": "code",
   "execution_count": null,
   "metadata": {},
   "outputs": [],
   "source": []
  }
 ],
 "metadata": {
  "kernelspec": {
   "display_name": "Python 3",
   "language": "python",
   "name": "python3"
  },
  "language_info": {
   "codemirror_mode": {
    "name": "ipython",
    "version": 3
   },
   "file_extension": ".py",
   "mimetype": "text/x-python",
   "name": "python",
   "nbconvert_exporter": "python",
   "pygments_lexer": "ipython3",
   "version": "3.12.2"
  }
 },
 "nbformat": 4,
 "nbformat_minor": 2
}
