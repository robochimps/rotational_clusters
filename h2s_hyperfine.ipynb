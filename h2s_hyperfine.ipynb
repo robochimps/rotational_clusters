{
 "cells": [
  {
   "cell_type": "code",
   "execution_count": 3,
   "metadata": {},
   "outputs": [
    {
     "name": "stderr",
     "output_type": "stream",
     "text": [
      "/gpfs/cfel/group/cmi/common/psi4/psi4conda/lib/python3.10/pty.py:89: RuntimeWarning: os.fork() was called. os.fork() is incompatible with multithreaded code, and JAX is multithreaded, so this will likely lead to a deadlock.\n",
      "  pid, fd = os.forkpty()\n"
     ]
    }
   ],
   "source": [
    "! export JAX_PLATFORMS=cpu"
   ]
  },
  {
   "cell_type": "markdown",
   "metadata": {},
   "source": [
    "# Hyperfine solutions for H2S molecule (spin-rotation interaction)\n",
    "\n"
   ]
  },
  {
   "cell_type": "code",
   "execution_count": 4,
   "metadata": {},
   "outputs": [],
   "source": [
    "import h5py\n",
    "import jax\n",
    "import numpy as np\n",
    "from jax import config\n",
    "from jax import numpy as jnp\n",
    "\n",
    "from rovib.symtop import threej_wang\n",
    "from rovib.cartens import CART_IND\n",
    "\n",
    "config.update(\"jax_enable_x64\", True)"
   ]
  },
  {
   "cell_type": "markdown",
   "metadata": {},
   "source": [
    "Read vibrational matrix elements of spin-rotation tensors and compute their matrix elements in rovibrational basis"
   ]
  },
  {
   "cell_type": "code",
   "execution_count": 6,
   "metadata": {},
   "outputs": [],
   "source": [
    "def tensor_rovib_me(\n",
    "    rank: int, j1: int, j2: int, vib_me, pmax: int = 20, linear: bool = False, tol=1e-12\n",
    "):\n",
    "    \"\"\"Computes rovibrational matrix elements of a Cartesian tensor operator.\n",
    "\n",
    "    This function calculates the rovibrational matrix elements using wavefunctions stored in \n",
    "    separate files for different values of the J quantum number (see `h2s_rovib.ipynb`). \n",
    "    The computation is performed for the specified bra (`j1`) and ket (`j2`) values of the J\n",
    "    quantum number.\n",
    "    \"\"\"\n",
    "\n",
    "    # determine the order of Cartesian indices in the Cartesian-to-spherical tensor\n",
    "    #   transformation matrix (in cartens.CART_IND and threej_wang)\n",
    "    cart_ind = [[\"xyz\".index(x) for x in elem] for elem in CART_IND[rank]]\n",
    "\n",
    "    # reshape vibrational matrix elements such that the order of Cartesian indices\n",
    "    #   correspond to the order in threej_wang output\n",
    "    vib_me_ = np.moveaxis([vib_me[:, :, i, j] for (i, j) in cart_ind], 0, -1)\n",
    "\n",
    "    # rotational matrix elements, rot_me[omega].shape = (nbas_rot, nbas_rot, ncart)\n",
    "    jktau_list1, jktau_list2, rot_me = threej_wang(rank, j1, j2, linear=linear)\n",
    "\n",
    "    h5_1 = h5py.File(f\"h2s_coefficients_pmax{pmax}_j{j1}.h5\", \"r\")\n",
    "    h5_2 = h5py.File(f\"h2s_coefficients_pmax{pmax}_j{j2}.h5\", \"r\")\n",
    "\n",
    "    res = {}\n",
    "\n",
    "    for sym1 in h5_1[\"energies\"].keys():\n",
    "        enr1 = h5_1[\"energies\"][sym1][:]\n",
    "        coefs1 = h5_1[\"coefficients\"][sym1][:]\n",
    "        vind1 = h5_1[\"vib-indices\"][sym1][:]\n",
    "        rind1 = h5_1[\"rot-indices\"][sym1][:]\n",
    "        qua1 = np.array(\n",
    "            [elem[0].decode(\"utf-8\").split(\",\") for elem in h5_1[\"quanta\"][sym1][:]]\n",
    "        )\n",
    "        for sym2 in h5_2[\"energies\"].keys():\n",
    "            enr2 = h5_2[\"energies\"][sym2][:]\n",
    "            coefs2 = h5_2[\"coefficients\"][sym2][:]\n",
    "            vind2 = h5_2[\"vib-indices\"][sym2][:]\n",
    "            rind2 = h5_2[\"rot-indices\"][sym2][:]\n",
    "            qua2 = np.array(\n",
    "                [elem[0].decode(\"utf-8\").split(\",\") for elem in h5_2[\"quanta\"][sym2][:]]\n",
    "            )\n",
    "\n",
    "            me = []\n",
    "            for omega in range(rank + 1):\n",
    "                me_ = np.einsum(\n",
    "                    \"ijc,ijc->ij\",\n",
    "                    vib_me_[np.ix_(vind1, vind2)],\n",
    "                    rot_me[omega][np.ix_(rind1, rind2)],\n",
    "                    optimize=\"optimal\",\n",
    "                )\n",
    "                me.append(\n",
    "                    np.einsum(\n",
    "                        \"ik,ij,jl->kl\", np.conj(coefs1), me_, coefs2, optimize=\"optimal\"\n",
    "                    )\n",
    "                )\n",
    "\n",
    "            me = np.array(me)\n",
    "            me[np.abs(me) < tol] = 0\n",
    "            if np.count_nonzero(me) > 0:\n",
    "                res[(sym1, sym2)] = np.array(me)\n",
    "\n",
    "    return res"
   ]
  },
  {
   "cell_type": "code",
   "execution_count": 7,
   "metadata": {},
   "outputs": [
    {
     "name": "stdout",
     "output_type": "stream",
     "text": [
      "0 0 [('A1', 'A1'), ('B2', 'B2')] [(3, 286, 286), (3, 220, 220)]\n",
      "0 1 [('A1', 'B2'), ('B2', 'A1')] [(3, 286, 286), (3, 220, 220)]\n",
      "0 2 [('A1', 'A1'), ('A1', 'B2'), ('B2', 'A1'), ('B2', 'B2')] [(3, 286, 791), (3, 286, 726), (3, 220, 791), (3, 220, 726)]\n",
      "0 3 [] []\n",
      "0 4 [] []\n",
      "0 5 [] []\n",
      "0 6 [] []\n",
      "1 0 [('A1', 'B2'), ('B2', 'A1')] [(3, 220, 220), (3, 286, 286)]\n",
      "1 1 [('A1', 'A1'), ('A2', 'A2'), ('A2', 'B1'), ('B1', 'A2'), ('B1', 'B1'), ('B2', 'B2')] [(3, 220, 220), (3, 506, 506), (3, 506, 506), (3, 506, 506), (3, 506, 506), (3, 286, 286)]\n",
      "1 2 [('A1', 'A1'), ('A1', 'B2'), ('A2', 'A2'), ('A2', 'B1'), ('B1', 'A2'), ('B1', 'B1'), ('B2', 'A1'), ('B2', 'B2')] [(3, 220, 791), (3, 220, 726), (3, 506, 506), (3, 506, 505), (3, 506, 506), (3, 506, 505), (3, 286, 791), (3, 286, 726)]\n",
      "1 3 [('A1', 'A1'), ('A1', 'B2'), ('A2', 'A2'), ('A2', 'B1'), ('B1', 'A2'), ('B1', 'B1'), ('B2', 'A1'), ('B2', 'B2')] [(3, 220, 725), (3, 220, 791), (3, 506, 1011), (3, 506, 1011), (3, 506, 1011), (3, 506, 1011), (3, 286, 725), (3, 286, 791)]\n",
      "1 4 [] []\n",
      "1 5 [] []\n",
      "1 6 [] []\n",
      "2 0 [('A1', 'A1'), ('A1', 'B2'), ('B2', 'A1'), ('B2', 'B2')] [(3, 791, 286), (3, 791, 220), (3, 726, 286), (3, 726, 220)]\n",
      "2 1 [('A1', 'A1'), ('A1', 'B2'), ('A2', 'A2'), ('A2', 'B1'), ('B1', 'A2'), ('B1', 'B1'), ('B2', 'A1'), ('B2', 'B2')] [(3, 791, 220), (3, 791, 286), (3, 506, 506), (3, 506, 506), (3, 505, 506), (3, 505, 506), (3, 726, 220), (3, 726, 286)]\n",
      "2 2 [('A1', 'A1'), ('A1', 'B2'), ('A2', 'A2'), ('A2', 'B1'), ('B1', 'A2'), ('B1', 'B1'), ('B2', 'A1'), ('B2', 'B2')] [(3, 791, 791), (3, 791, 726), (3, 506, 506), (3, 506, 505), (3, 505, 506), (3, 505, 505), (3, 726, 791), (3, 726, 726)]\n",
      "2 3 [('A1', 'A1'), ('A1', 'B2'), ('A2', 'A2'), ('A2', 'B1'), ('B1', 'A2'), ('B1', 'B1'), ('B2', 'A1'), ('B2', 'B2')] [(3, 791, 725), (3, 791, 791), (3, 506, 1011), (3, 506, 1011), (3, 505, 1011), (3, 505, 1011), (3, 726, 725), (3, 726, 791)]\n",
      "2 4 [('A1', 'A1'), ('A1', 'B2'), ('A2', 'A2'), ('A2', 'B1'), ('B1', 'A2'), ('B1', 'B1'), ('B2', 'A1'), ('B2', 'B2')] [(3, 791, 1296), (3, 791, 1231), (3, 506, 1011), (3, 506, 1010), (3, 505, 1011), (3, 505, 1010), (3, 726, 1296), (3, 726, 1231)]\n",
      "2 5 [] []\n",
      "2 6 [] []\n",
      "3 0 [] []\n",
      "3 1 [('A1', 'A1'), ('A1', 'B2'), ('A2', 'A2'), ('A2', 'B1'), ('B1', 'A2'), ('B1', 'B1'), ('B2', 'A1'), ('B2', 'B2')] [(3, 725, 220), (3, 725, 286), (3, 1011, 506), (3, 1011, 506), (3, 1011, 506), (3, 1011, 506), (3, 791, 220), (3, 791, 286)]\n",
      "3 2 [('A1', 'A1'), ('A1', 'B2'), ('A2', 'A2'), ('A2', 'B1'), ('B1', 'A2'), ('B1', 'B1'), ('B2', 'A1'), ('B2', 'B2')] [(3, 725, 791), (3, 725, 726), (3, 1011, 506), (3, 1011, 505), (3, 1011, 506), (3, 1011, 505), (3, 791, 791), (3, 791, 726)]\n",
      "3 3 [('A1', 'A1'), ('A1', 'B2'), ('A2', 'A2'), ('A2', 'B1'), ('B1', 'A2'), ('B1', 'B1'), ('B2', 'A1'), ('B2', 'B2')] [(3, 725, 725), (3, 725, 791), (3, 1011, 1011), (3, 1011, 1011), (3, 1011, 1011), (3, 1011, 1011), (3, 791, 725), (3, 791, 791)]\n",
      "3 4 [('A1', 'A1'), ('A1', 'B2'), ('A2', 'A2'), ('A2', 'B1'), ('B1', 'A2'), ('B1', 'B1'), ('B2', 'A1'), ('B2', 'B2')] [(3, 725, 1296), (3, 725, 1231), (3, 1011, 1011), (3, 1011, 1010), (3, 1011, 1011), (3, 1011, 1010), (3, 791, 1296), (3, 791, 1231)]\n",
      "3 5 [('A1', 'A1'), ('A1', 'B2'), ('A2', 'A2'), ('A2', 'B1'), ('B1', 'A2'), ('B1', 'B1'), ('B2', 'A1'), ('B2', 'B2')] [(3, 725, 1230), (3, 725, 1296), (3, 1011, 1516), (3, 1011, 1516), (3, 1011, 1516), (3, 1011, 1516), (3, 791, 1230), (3, 791, 1296)]\n",
      "3 6 [] []\n",
      "4 0 [] []\n",
      "4 1 [] []\n",
      "4 2 [('A1', 'A1'), ('A1', 'B2'), ('A2', 'A2'), ('A2', 'B1'), ('B1', 'A2'), ('B1', 'B1'), ('B2', 'A1'), ('B2', 'B2')] [(3, 1296, 791), (3, 1296, 726), (3, 1011, 506), (3, 1011, 505), (3, 1010, 506), (3, 1010, 505), (3, 1231, 791), (3, 1231, 726)]\n",
      "4 3 [('A1', 'A1'), ('A1', 'B2'), ('A2', 'A2'), ('A2', 'B1'), ('B1', 'A2'), ('B1', 'B1'), ('B2', 'A1'), ('B2', 'B2')] [(3, 1296, 725), (3, 1296, 791), (3, 1011, 1011), (3, 1011, 1011), (3, 1010, 1011), (3, 1010, 1011), (3, 1231, 725), (3, 1231, 791)]\n",
      "4 4 [('A1', 'A1'), ('A1', 'B2'), ('A2', 'A2'), ('A2', 'B1'), ('B1', 'A2'), ('B1', 'B1'), ('B2', 'A1'), ('B2', 'B2')] [(3, 1296, 1296), (3, 1296, 1231), (3, 1011, 1011), (3, 1011, 1010), (3, 1010, 1011), (3, 1010, 1010), (3, 1231, 1296), (3, 1231, 1231)]\n",
      "4 5 [('A1', 'A1'), ('A1', 'B2'), ('A2', 'A2'), ('A2', 'B1'), ('B1', 'A2'), ('B1', 'B1'), ('B2', 'A1'), ('B2', 'B2')] [(3, 1296, 1230), (3, 1296, 1296), (3, 1011, 1516), (3, 1011, 1516), (3, 1010, 1516), (3, 1010, 1516), (3, 1231, 1230), (3, 1231, 1296)]\n",
      "4 6 [('A1', 'A1'), ('A1', 'B2'), ('A2', 'A2'), ('A2', 'B1'), ('B1', 'A2'), ('B1', 'B1'), ('B2', 'A1'), ('B2', 'B2')] [(3, 1296, 1801), (3, 1296, 1736), (3, 1011, 1516), (3, 1011, 1515), (3, 1010, 1516), (3, 1010, 1515), (3, 1231, 1801), (3, 1231, 1736)]\n",
      "5 0 [] []\n",
      "5 1 [] []\n",
      "5 2 [] []\n",
      "5 3 [('A1', 'A1'), ('A1', 'B2'), ('A2', 'A2'), ('A2', 'B1'), ('B1', 'A2'), ('B1', 'B1'), ('B2', 'A1'), ('B2', 'B2')] [(3, 1230, 725), (3, 1230, 791), (3, 1516, 1011), (3, 1516, 1011), (3, 1516, 1011), (3, 1516, 1011), (3, 1296, 725), (3, 1296, 791)]\n",
      "5 4 [('A1', 'A1'), ('A1', 'B2'), ('A2', 'A2'), ('A2', 'B1'), ('B1', 'A2'), ('B1', 'B1'), ('B2', 'A1'), ('B2', 'B2')] [(3, 1230, 1296), (3, 1230, 1231), (3, 1516, 1011), (3, 1516, 1010), (3, 1516, 1011), (3, 1516, 1010), (3, 1296, 1296), (3, 1296, 1231)]\n",
      "5 5 [('A1', 'A1'), ('A1', 'B2'), ('A2', 'A2'), ('A2', 'B1'), ('B1', 'A2'), ('B1', 'B1'), ('B2', 'A1'), ('B2', 'B2')] [(3, 1230, 1230), (3, 1230, 1296), (3, 1516, 1516), (3, 1516, 1516), (3, 1516, 1516), (3, 1516, 1516), (3, 1296, 1230), (3, 1296, 1296)]\n",
      "5 6 [('A1', 'A1'), ('A1', 'B2'), ('A2', 'A2'), ('A2', 'B1'), ('B1', 'A2'), ('B1', 'B1'), ('B2', 'A1'), ('B2', 'B2')] [(3, 1230, 1801), (3, 1230, 1736), (3, 1516, 1516), (3, 1516, 1515), (3, 1516, 1516), (3, 1516, 1515), (3, 1296, 1801), (3, 1296, 1736)]\n",
      "6 0 [] []\n",
      "6 1 [] []\n",
      "6 2 [] []\n",
      "6 3 [] []\n",
      "6 4 [('A1', 'A1'), ('A1', 'B2'), ('A2', 'A2'), ('A2', 'B1'), ('B1', 'A2'), ('B1', 'B1'), ('B2', 'A1'), ('B2', 'B2')] [(3, 1801, 1296), (3, 1801, 1231), (3, 1516, 1011), (3, 1516, 1010), (3, 1515, 1011), (3, 1515, 1010), (3, 1736, 1296), (3, 1736, 1231)]\n",
      "6 5 [('A1', 'A1'), ('A1', 'B2'), ('A2', 'A2'), ('A2', 'B1'), ('B1', 'A2'), ('B1', 'B1'), ('B2', 'A1'), ('B2', 'B2')] [(3, 1801, 1230), (3, 1801, 1296), (3, 1516, 1516), (3, 1516, 1516), (3, 1515, 1516), (3, 1515, 1516), (3, 1736, 1230), (3, 1736, 1296)]\n",
      "6 6 [('A1', 'A1'), ('A1', 'B2'), ('A2', 'A2'), ('A2', 'B1'), ('B1', 'A2'), ('B1', 'B1'), ('B2', 'A1'), ('B2', 'B2')] [(3, 1801, 1801), (3, 1801, 1736), (3, 1516, 1516), (3, 1516, 1515), (3, 1515, 1516), (3, 1515, 1515), (3, 1736, 1801), (3, 1736, 1736)]\n"
     ]
    }
   ],
   "source": [
    "pmax = 20\n",
    "\n",
    "# read vibrational matrix elements of spin-rotation tensors\n",
    "\n",
    "with h5py.File(f\"h2s_vibme_pmax{pmax}.h5\", \"r\") as h5:\n",
    "    sr_h1_vib = h5[\"spin-rotation\"][\"h1\"][:]\n",
    "    sr_h2_vib = h5[\"spin-rotation\"][\"h2\"][:]\n",
    "\n",
    "# compute rovibrational matrix elements for different pairs of J quanta\n",
    "\n",
    "rank = 2\n",
    "max_j = 6\n",
    "for j1 in range(max_j + 1):\n",
    "    for j2 in range(max_j + 1):\n",
    "        me = tensor_rovib_me(rank, j1, j2, sr_h1_vib)\n",
    "        print(j1, j2, list(me.keys()), [elem.shape for elem in me.values()])"
   ]
  },
  {
   "cell_type": "code",
   "execution_count": null,
   "metadata": {},
   "outputs": [],
   "source": []
  }
 ],
 "metadata": {
  "kernelspec": {
   "display_name": "base",
   "language": "python",
   "name": "python3"
  },
  "language_info": {
   "codemirror_mode": {
    "name": "ipython",
    "version": 3
   },
   "file_extension": ".py",
   "mimetype": "text/x-python",
   "name": "python",
   "nbconvert_exporter": "python",
   "pygments_lexer": "ipython3",
   "version": "3.10.13"
  }
 },
 "nbformat": 4,
 "nbformat_minor": 2
}
