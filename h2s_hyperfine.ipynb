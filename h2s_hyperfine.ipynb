{
 "cells": [
  {
   "cell_type": "code",
   "execution_count": 3,
   "metadata": {},
   "outputs": [
    {
     "name": "stderr",
     "output_type": "stream",
     "text": [
      "/gpfs/cfel/group/cmi/common/psi4/psi4conda/lib/python3.10/pty.py:89: RuntimeWarning: os.fork() was called. os.fork() is incompatible with multithreaded code, and JAX is multithreaded, so this will likely lead to a deadlock.\n",
      "  pid, fd = os.forkpty()\n"
     ]
    }
   ],
   "source": [
    "! export JAX_PLATFORMS=cpu"
   ]
  },
  {
   "cell_type": "markdown",
   "metadata": {},
   "source": [
    "# Hyperfine solutions and spin-density for H2S\n",
    "\n",
    "Compute the hyperfine energies and wavefunctions for selected rotational cluster states of $\\text{H}_2\\text{S}$.\n",
    "The hyperfine interaction is represented by the spin-rotation coupling.\n",
    "\n",
    "We also compute the nuclear spin densities to verify if the ortho-para interaction can induce the nuclear spin polarisation."
   ]
  },
  {
   "cell_type": "code",
   "execution_count": 4,
   "metadata": {},
   "outputs": [],
   "source": [
    "import h5py\n",
    "import hdfdict\n",
    "import jax\n",
    "import numpy as np\n",
    "from jax import config\n",
    "from jax import numpy as jnp\n",
    "from rovib.cartens import CART_IND\n",
    "from rovib.spinrot_xy2 import spinrot_xy2\n",
    "from rovib.symtop import threej_wang\n",
    "from scipy import constants\n",
    "from scipy.sparse import csr_matrix\n",
    "\n",
    "config.update(\"jax_enable_x64\", True)\n",
    "KHZ_TO_INVCM = 1.0 / constants.value(\"speed of light in vacuum\") * 10"
   ]
  },
  {
   "cell_type": "markdown",
   "metadata": {},
   "source": [
    "First, read the indices of rotational cluster states for different $J$ quanta, sored in file `h2s_cluster_states.txt`. The rotational cluster states were identified in `h2s_clusters.ipynb`."
   ]
  },
  {
   "cell_type": "code",
   "execution_count": 5,
   "metadata": {},
   "outputs": [
    {
     "name": "stdout",
     "output_type": "stream",
     "text": [
      "J = 50, cluster-state IDs: {'B2': [277], 'A2': [242], 'B1': [242], 'A1': [280]}\n",
      "J = 51, cluster-state IDs: {'A1': [267], 'B1': [299], 'B2': [270], 'A2': [299]}\n",
      "J = 52, cluster-state IDs: {'B2': [324], 'A2': [291], 'A1': [327], 'B1': [291]}\n",
      "J = 53, cluster-state IDs: {'A1': [316], 'B1': [354], 'B2': [318], 'A2': [353]}\n",
      "J = 54, cluster-state IDs: {'B2': [385], 'A2': [345], 'A1': [387], 'B1': [344]}\n",
      "J = 55, cluster-state IDs: {'A1': [371], 'B1': [413], 'A2': [412], 'B2': [373]}\n",
      "J = 56, cluster-state IDs: {'B2': [447], 'A2': [399], 'B1': [399], 'A1': [450]}\n",
      "J = 57, cluster-state IDs: {'A1': [432], 'B1': [487], 'B2': [434], 'A2': [486]}\n",
      "J = 58, cluster-state IDs: {'B2': [520], 'B1': [468], 'A1': [523], 'A2': [469]}\n",
      "J = 59, cluster-state IDs: {'A1': [503], 'B1': [565], 'A2': [563], 'B2': [505]}\n",
      "J = 60, cluster-state IDs: {'B1': [542], 'A1': [600], 'A2': [544], 'B2': [599]}\n"
     ]
    }
   ],
   "source": [
    "cluster_state_id = {}\n",
    "with open(\"h2s_cluster_states_id.txt\", \"r\") as fl:\n",
    "    for line in fl:\n",
    "        w = line.split()\n",
    "        j = [int(w[0 + i * 12]) for i in range(4)]\n",
    "        id = [int(w[1 + i * 12]) for i in range(4)]\n",
    "        sym = [w[3 + i * 12] for i in range(4)]\n",
    "        assert all(j[0] == elem for elem in j), f\"Not all J quanta are equal: {j}\"\n",
    "        j_ = j[0]\n",
    "        if j_ >= 50:\n",
    "            cluster_state_id[j_] = {}\n",
    "            for sym_, id_ in zip(sym, id):\n",
    "                try:\n",
    "                    cluster_state_id[j_][sym_].append(id_)\n",
    "                except KeyError:\n",
    "                    cluster_state_id[j_][sym_] = [id_]\n",
    "            print(f\"J = {j_}, cluster-state IDs: {cluster_state_id[j_]}\")"
   ]
  },
  {
   "cell_type": "markdown",
   "metadata": {},
   "source": [
    "Read energies and spin-rotation matrix elemetns for selected (cluster) states."
   ]
  },
  {
   "cell_type": "code",
   "execution_count": 6,
   "metadata": {},
   "outputs": [],
   "source": [
    "pmax = 20\n",
    "min_J = 50\n",
    "max_J = 50\n",
    "\n",
    "with h5py.File(f\"h2s_spinrot_enr_pmax{pmax}.h5\", \"r\") as h5:\n",
    "    enr = hdfdict.load(h5.require_group(\"energies\"), False)\n",
    "\n",
    "enr_cluster = {\n",
    "    int(J): {\n",
    "        sym: enr_sym[cluster_state_id[int(J)][sym]] for sym, enr_sym in enr_J.items()\n",
    "    }\n",
    "    for J, enr_J in enr.items()\n",
    "}\n",
    "\n",
    "sr1_cluster = {}\n",
    "sr2_cluster = {}\n",
    "for J1 in range(min_J, max_J + 1):\n",
    "    for J2 in range(min_J, max_J + 1):\n",
    "        if abs(J1 - J2) > 2:\n",
    "            continue\n",
    "        with h5py.File(f\"h2s_spinrot_me_pmax{pmax}_j{J1}_j{J2}.h5\", \"r\") as h5:\n",
    "            sr1 = hdfdict.load(h5.require_group(\"h1\"), False)\n",
    "            sr2 = hdfdict.load(h5.require_group(\"h2\"), False)\n",
    "\n",
    "        for i, sr in enumerate((sr1, sr2)):\n",
    "            sr_ = {\n",
    "                (sym1, sym2): csr_matrix(\n",
    "                    (me[\"data\"], me[\"indices\"], me[\"indptr\"]), shape=me[\"shape\"]\n",
    "                )\n",
    "                .toarray()\n",
    "                .reshape(len(enr[str(J1)][sym1]), len(enr[str(J2)][sym2]), 3)[\n",
    "                    np.ix_(cluster_state_id[J1][sym1], cluster_state_id[J2][sym2])\n",
    "                ]\n",
    "                for sym1, me_sym in sr.items()\n",
    "                for sym2, me in me_sym.items()\n",
    "            }\n",
    "            if i == 0:\n",
    "                sr1_cluster[(J1, J2)] = sr_\n",
    "            else:\n",
    "                sr2_cluster[(J1, J2)] = sr_"
   ]
  },
  {
   "cell_type": "markdown",
   "metadata": {},
   "source": [
    "Compute hyperfine energies and wavefunctions"
   ]
  },
  {
   "cell_type": "code",
   "execution_count": 7,
   "metadata": {},
   "outputs": [
    {
     "name": "stdout",
     "output_type": "stream",
     "text": [
      "B1 24708.81878741142 (50, 'A2', 0, 'B2') [-251.31312801] (-0.9645884203858239-0j)\n",
      "B1 24708.81890790879 (50, 'B1', 1, 'A1') [235.51446432] (0.9645884203858239+0j)\n",
      "B2 24708.818786957007 (50, 'B2', 1, 'A1') [-264.91295521] (-0.9651734896744998+0j)\n",
      "B2 24708.818908370573 (50, 'A1', 0, 'B2') [249.11429151] (-0.9651734896744998-0j)\n"
     ]
    }
   ],
   "source": [
    "F = 50\n",
    "J = F\n",
    "\n",
    "hyper_enr, hyper_vec, hyper_qua = spinrot_xy2(\n",
    "    F,\n",
    "    {J: enr_cluster[J]},\n",
    "    {(J, J): sr1_cluster[(J, J)]},\n",
    "    {(J, J): sr2_cluster[(J, J)]},\n",
    "    # enr_cluster,\n",
    "    # sr1_cluster,\n",
    "    # sr2_cluster,\n",
    "    spin_states=((0, \"B2\"), (1, \"A1\")),\n",
    "    spins=(0.5, 0.5),\n",
    ")\n",
    "\n",
    "for sym in hyper_enr.keys():\n",
    "    ind = np.argmax(hyper_vec[sym] ** 2, axis=0)\n",
    "    for ii, (e, i) in enumerate(zip(hyper_enr[sym], ind)):\n",
    "        qua = hyper_qua[sym][i]\n",
    "        rov_sym = qua[1]\n",
    "        print(\n",
    "            sym,\n",
    "            e,\n",
    "            hyper_qua[sym][i],\n",
    "            (e - enr_cluster[J][rov_sym]) / KHZ_TO_INVCM,\n",
    "            hyper_vec[sym][i, ii],\n",
    "        )\n",
    "\n",
    "\n",
    "# for key, val in hyper_enr.items():\n",
    "#     print(key, val.shape, val)\n",
    "# print(enr[J])"
   ]
  },
  {
   "cell_type": "code",
   "execution_count": null,
   "metadata": {},
   "outputs": [],
   "source": []
  },
  {
   "cell_type": "code",
   "execution_count": null,
   "metadata": {},
   "outputs": [],
   "source": []
  },
  {
   "cell_type": "code",
   "execution_count": null,
   "metadata": {},
   "outputs": [],
   "source": []
  },
  {
   "cell_type": "code",
   "execution_count": 12,
   "metadata": {},
   "outputs": [],
   "source": [
    "with h5py.File(\"h2s_cluster_states_me.h5\", \"r\") as h5:\n",
    "    enr = hdfdict.load(h5.require_group(\"energies\"), False)\n",
    "    sr = hdfdict.load(h5.require_group(\"spin-rotation\"), False)\n",
    "\n",
    "enr = {\n",
    "    int(J): {sym: enr_sym for sym, enr_sym in enr_J.items()} for J, enr_J in enr.items()\n",
    "}\n",
    "\n",
    "sr_h1 = {\n",
    "    (int(J), int(J)): {\n",
    "        (sym1, sym2): me_sym2\n",
    "        for sym1, me_sym1 in me_J.items()\n",
    "        for sym2, me_sym2 in me_sym1.items()\n",
    "    }\n",
    "    for J, me_J in sr[\"h1\"].items()\n",
    "}\n",
    "\n",
    "sr_h2 = {\n",
    "    (int(J), int(J)): {\n",
    "        (sym1, sym2): me_sym2\n",
    "        for sym1, me_sym1 in me_J.items()\n",
    "        for sym2, me_sym2 in me_sym1.items()\n",
    "    }\n",
    "    for J, me_J in sr[\"h2\"].items()\n",
    "}"
   ]
  },
  {
   "cell_type": "code",
   "execution_count": 13,
   "metadata": {},
   "outputs": [
    {
     "name": "stdout",
     "output_type": "stream",
     "text": [
      "B1 24708.81878741142 (50, 'A2', 0, 'B2') [-251.31312801] (-0.9645884203858242-0j)\n",
      "B1 24708.81890790879 (50, 'B1', 1, 'A1') [235.51446432] (0.9645884203858242+0j)\n",
      "B2 24708.818786957007 (50, 'B2', 1, 'A1') [-264.91295521] (-0.9651734896745006+0j)\n",
      "B2 24708.818908370573 (50, 'A1', 0, 'B2') [249.11429151] (-0.9651734896745006-0j)\n",
      "[24708.81878741 24708.81890791]\n",
      "[24708.81890005] [24708.81879579]\n"
     ]
    }
   ],
   "source": [
    "F = 50\n",
    "J = F\n",
    "\n",
    "hyper_enr, hyper_vec, hyper_qua = spinrot_xy2(\n",
    "    F,\n",
    "    {J: enr[J]},\n",
    "    {(J, J): sr_h1[(J, J)]},\n",
    "    {(J, J): sr_h2[(J, J)]},\n",
    "    spin_states=((0, \"B2\"), (1, \"A1\")),\n",
    "    spins=(0.5, 0.5),\n",
    ")\n",
    "\n",
    "for sym in hyper_enr.keys():\n",
    "    ind = np.argmax(hyper_vec[sym] ** 2, axis=0)\n",
    "    for ii, (e, i) in enumerate(zip(hyper_enr[sym], ind)):\n",
    "        qua = hyper_qua[sym][i]\n",
    "        rov_sym = qua[1]\n",
    "        print(\n",
    "            sym,\n",
    "            e,\n",
    "            hyper_qua[sym][i],\n",
    "            (e - enr[J][rov_sym]) / KHZ_TO_INVCM,\n",
    "            hyper_vec[sym][i, ii],\n",
    "        )\n",
    "\n",
    "print(hyper_enr[\"B1\"])\n",
    "print(enr[J][\"B1\"], enr[J][\"A2\"])\n",
    "\n",
    "# for key, val in hyper_enr.items():\n",
    "#     print(key, val.shape, val)\n",
    "# print(enr[J])"
   ]
  },
  {
   "cell_type": "code",
   "execution_count": 14,
   "metadata": {},
   "outputs": [
    {
     "name": "stdout",
     "output_type": "stream",
     "text": [
      "('A1', 'A1') 4.618527782440651e-14\n",
      "('A1', 'B2') 3.503224013374773e-08\n",
      "('A2', 'A2') 5.595524044110789e-14\n",
      "('A2', 'B1') 3.5029605616438325e-08\n",
      "('B1', 'A2') 3.502960560754532e-08\n",
      "('B1', 'B1') 4.884981308350689e-14\n",
      "('B2', 'A1') 3.503224014133214e-08\n",
      "('B2', 'B2') 7.238654120556021e-14\n",
      "('A1', 'A1') [[[-2.73188857+0.j  0.        +0.j -0.00641101+0.j]]] [[[-2.73188857+0.j  0.        +0.j -0.00641101+0.j]]]\n",
      "('A1', 'B2') [[[ 0.00000000e+00+0.j  3.50322401e-08+0.j -2.21833679e+00+0.j]]] [[[ 0.        +0.j  0.        +0.j -2.21833679+0.j]]]\n",
      "('A2', 'A2') [[[-2.73188857+0.j  0.        +0.j -0.0064111 +0.j]]] [[[-2.73188857+0.j  0.        +0.j -0.0064111 +0.j]]]\n",
      "('A2', 'B1') [[[0.00000000e+00+0.j 3.50296056e-08+0.j 2.21833679e+00+0.j]]] [[[0.        +0.j 0.        +0.j 2.21833679+0.j]]]\n",
      "('B1', 'A2') [[[ 0.00000000e+00+0.j -3.50296056e-08+0.j  2.21833679e+00+0.j]]] [[[0.        +0.j 0.        +0.j 2.21833679+0.j]]]\n",
      "('B1', 'B1') [[[-2.73188857+0.j  0.        +0.j -0.00641101+0.j]]] [[[-2.73188857+0.j  0.        +0.j -0.00641101+0.j]]]\n",
      "('B2', 'A1') [[[ 0.00000000e+00+0.j -3.50322401e-08+0.j -2.21833679e+00+0.j]]] [[[ 0.        +0.j  0.        +0.j -2.21833679+0.j]]]\n",
      "('B2', 'B2') [[[-2.73188857+0.j  0.        +0.j -0.0064111 +0.j]]] [[[-2.73188857+0.j  0.        +0.j -0.0064111 +0.j]]]\n"
     ]
    }
   ],
   "source": [
    "J = 50\n",
    "for sym in sr_h1[(J, J)].keys():\n",
    "    print(sym, np.max(np.abs(sr_h1[(J, J)][sym] - sr1_cluster[(J, J)][sym])))\n",
    "\n",
    "for sym in sr_h1[(J, J)].keys():\n",
    "    print(sym, sr_h1[(J, J)][sym], sr1_cluster[(J, J)][sym])"
   ]
  },
  {
   "cell_type": "markdown",
   "metadata": {},
   "source": [
    "A1 A1 [[[-2.73188857+0.j  0.        +0.j -0.00641101+0.j]]]\n",
    "A1 B2 [[[ 0.00000000e+00+0.j  3.50322401e-08+0.j -2.21833679e+00+0.j]]]\n",
    "A2 A2 [[[-2.73188857+0.j  0.        +0.j -0.0064111 +0.j]]]\n",
    "A2 B1 [[[0.00000000e+00+0.j 3.50296056e-08+0.j 2.21833679e+00+0.j]]]\n",
    "B1 A2 [[[ 0.00000000e+00+0.j -3.50296056e-08+0.j  2.21833679e+00+0.j]]]\n",
    "B1 B1 [[[-2.73188857+0.j  0.        +0.j -0.00641101+0.j]]]\n",
    "B2 A1 [[[ 0.00000000e+00+0.j -3.50322401e-08+0.j -2.21833679e+00+0.j]]]\n",
    "B2 B2 [[[-2.73188857+0.j  0.        +0.j -0.0064111 +0.j]]]"
   ]
  },
  {
   "cell_type": "code",
   "execution_count": 13,
   "metadata": {},
   "outputs": [
    {
     "name": "stdout",
     "output_type": "stream",
     "text": [
      "A1 [24708.81890006] [24708.81890006]\n",
      "A2 [24708.81879579] [24708.81879579]\n",
      "B1 [24708.81890005] [24708.81890005]\n",
      "B2 [24708.81879579] [24708.81879579]\n"
     ]
    }
   ],
   "source": [
    "for sym in enr[50].keys():\n",
    "    print(sym, enr[50][sym], enr_cluster[50][sym])"
   ]
  },
  {
   "cell_type": "code",
   "execution_count": null,
   "metadata": {},
   "outputs": [],
   "source": []
  }
 ],
 "metadata": {
  "kernelspec": {
   "display_name": "base",
   "language": "python",
   "name": "python3"
  },
  "language_info": {
   "codemirror_mode": {
    "name": "ipython",
    "version": 3
   },
   "file_extension": ".py",
   "mimetype": "text/x-python",
   "name": "python",
   "nbconvert_exporter": "python",
   "pygments_lexer": "ipython3",
   "version": "3.10.13"
  }
 },
 "nbformat": 4,
 "nbformat_minor": 2
}
