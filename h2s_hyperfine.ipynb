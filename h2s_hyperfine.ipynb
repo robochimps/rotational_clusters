{
 "cells": [
  {
   "cell_type": "code",
   "execution_count": 3,
   "metadata": {},
   "outputs": [
    {
     "name": "stderr",
     "output_type": "stream",
     "text": [
      "/gpfs/cfel/group/cmi/common/psi4/psi4conda/lib/python3.10/pty.py:89: RuntimeWarning: os.fork() was called. os.fork() is incompatible with multithreaded code, and JAX is multithreaded, so this will likely lead to a deadlock.\n",
      "  pid, fd = os.forkpty()\n"
     ]
    }
   ],
   "source": [
    "! export JAX_PLATFORMS=cpu"
   ]
  },
  {
   "cell_type": "markdown",
   "metadata": {},
   "source": [
    "# Hyperfine solutions for H2S molecule (spin-rotation interaction)\n",
    "\n"
   ]
  },
  {
   "cell_type": "code",
   "execution_count": 4,
   "metadata": {},
   "outputs": [],
   "source": [
    "import h5py\n",
    "import numpy as np\n",
    "\n",
    "from rovib.spinrot_xy2 import spinrot_xy2\n",
    "from rovib.cartens import CART_IND\n",
    "from rovib.symtop import threej_wang"
   ]
  },
  {
   "cell_type": "markdown",
   "metadata": {},
   "source": [
    "Read vibrational matrix elements of spin-rotation tensors and compute their matrix elements in rovibrational basis"
   ]
  },
  {
   "cell_type": "code",
   "execution_count": 5,
   "metadata": {},
   "outputs": [],
   "source": [
    "def rovib_states(j: int, pmax: int = 20):\n",
    "    \"\"\"Reads rovibrational energies and quanta from files for different values\n",
    "    of the J quantum number (see `h2s_rovib.ipynb`).\n",
    "    \"\"\"\n",
    "    h5 = h5py.File(f\"h2s_coefficients_pmax{pmax}_j{j}.h5\", \"r\")\n",
    "    energies = {}\n",
    "    quanta = {}\n",
    "    for sym in h5[\"energies\"].keys():\n",
    "        enr = h5[\"energies\"][sym][:]\n",
    "        coefs = h5[\"coefficients\"][sym][:]\n",
    "        vind = h5[\"vib-indices\"][sym][:]\n",
    "        rind = h5[\"rot-indices\"][sym][:]\n",
    "        qua = np.array(\n",
    "            [elem[0].decode(\"utf-8\").split(\",\") for elem in h5[\"quanta\"][sym][:]]\n",
    "        )\n",
    "        energies[sym] = enr\n",
    "        quanta[sym] = qua\n",
    "    return energies, quanta"
   ]
  },
  {
   "cell_type": "code",
   "execution_count": 6,
   "metadata": {},
   "outputs": [],
   "source": [
    "def tensor_rovib_me(\n",
    "    rank: int, j1: int, j2: int, vib_me, pmax: int = 20, linear: bool = False, tol=1e-12\n",
    "):\n",
    "    \"\"\"Computes rovibrational matrix elements of a Cartesian tensor operator.\n",
    "\n",
    "    This function calculates the rovibrational matrix elements using wavefunctions stored in\n",
    "    separate files for different values of the J quantum number (see `h2s_rovib.ipynb`).\n",
    "    The computation is performed for the specified bra (`j1`) and ket (`j2`) values of the J\n",
    "    quantum number.\n",
    "    \"\"\"\n",
    "\n",
    "    # determine the order of Cartesian indices in the Cartesian-to-spherical tensor\n",
    "    #   transformation matrix (in cartens.CART_IND and symtop.threej_wang)\n",
    "    cart_ind = [[\"xyz\".index(x) for x in elem] for elem in CART_IND[rank]]\n",
    "\n",
    "    # reshape vibrational matrix elements such that the order of Cartesian indices\n",
    "    #   correspond to the order in symtop.threej_wang output\n",
    "    vib_me_ = np.moveaxis([vib_me[:, :, i, j] for (i, j) in cart_ind], 0, -1)\n",
    "\n",
    "    # compute rotational matrix elements of three-j symbol contracted with\n",
    "    #   Cartesian-to-spherical tensor transformation matrix\n",
    "    jktau_list1, jktau_list2, rot_me = threej_wang(rank, j1, j2, linear=linear)\n",
    "    # rot_me[omega].shape = (2*j1+1, 2*j2+1, ncart)\n",
    "\n",
    "    h5_1 = h5py.File(f\"h2s_coefficients_pmax{pmax}_j{j1}.h5\", \"r\")\n",
    "    h5_2 = h5py.File(f\"h2s_coefficients_pmax{pmax}_j{j2}.h5\", \"r\")\n",
    "\n",
    "    res = {}\n",
    "\n",
    "    for sym1 in h5_1[\"energies\"].keys():\n",
    "        enr1 = h5_1[\"energies\"][sym1][:]\n",
    "        coefs1 = h5_1[\"coefficients\"][sym1][:]\n",
    "        vind1 = h5_1[\"vib-indices\"][sym1][:]\n",
    "        rind1 = h5_1[\"rot-indices\"][sym1][:]\n",
    "        qua1 = np.array(\n",
    "            [elem[0].decode(\"utf-8\").split(\",\") for elem in h5_1[\"quanta\"][sym1][:]]\n",
    "        )\n",
    "\n",
    "        for sym2 in h5_2[\"energies\"].keys():\n",
    "            enr2 = h5_2[\"energies\"][sym2][:]\n",
    "            coefs2 = h5_2[\"coefficients\"][sym2][:]\n",
    "            vind2 = h5_2[\"vib-indices\"][sym2][:]\n",
    "            rind2 = h5_2[\"rot-indices\"][sym2][:]\n",
    "            qua2 = np.array(\n",
    "                [elem[0].decode(\"utf-8\").split(\",\") for elem in h5_2[\"quanta\"][sym2][:]]\n",
    "            )\n",
    "\n",
    "            me = []\n",
    "            for omega in range(rank + 1):\n",
    "                me_ = np.einsum(\n",
    "                    \"ijc,ijc->ij\",\n",
    "                    vib_me_[np.ix_(vind1, vind2)],\n",
    "                    rot_me[omega][np.ix_(rind1, rind2)],\n",
    "                    optimize=\"optimal\",\n",
    "                )\n",
    "                me.append(\n",
    "                    np.einsum(\n",
    "                        \"ik,ij,jl->kl\", np.conj(coefs1), me_, coefs2, optimize=\"optimal\"\n",
    "                    )\n",
    "                )\n",
    "\n",
    "            me = np.moveaxis(np.array(me), 0, -1)\n",
    "            me[np.abs(me) < tol] = 0\n",
    "            if np.count_nonzero(me) > 0:\n",
    "                res[(sym1, sym2)] = np.array(me)\n",
    "\n",
    "    return res"
   ]
  },
  {
   "cell_type": "code",
   "execution_count": 7,
   "metadata": {},
   "outputs": [],
   "source": [
    "pmax = 20\n",
    "\n",
    "# read vibrational matrix elements of spin-rotation tensors\n",
    "\n",
    "with h5py.File(f\"h2s_vibme_pmax{pmax}.h5\", \"r\") as h5:\n",
    "    sr_h1_vib = h5[\"spin-rotation\"][\"h1\"][:]\n",
    "    sr_h2_vib = h5[\"spin-rotation\"][\"h2\"][:]\n",
    "\n",
    "# compute rovibrational matrix elements for different pairs of J quanta\n",
    "\n",
    "rank = 2\n",
    "min_j = 0\n",
    "max_j = 4\n",
    "\n",
    "rovib_enr = {}\n",
    "rovib_qua = {}\n",
    "for j in range(min_j, max_j + 1):\n",
    "    rovib_enr[j], rovib_qua[j] = rovib_states(j)\n",
    "\n",
    "rovib_sr1_me = {}\n",
    "rovib_sr2_me = {}\n",
    "me_sr1 = {}\n",
    "for j1 in range(min_j, max_j + 1):\n",
    "    for j2 in range(min_j, max_j + 1):\n",
    "        rovib_sr1_me[(j1, j2)] = tensor_rovib_me(rank, j1, j2, sr_h1_vib)\n",
    "        rovib_sr2_me[(j1, j2)] = tensor_rovib_me(rank, j1, j2, sr_h2_vib)"
   ]
  },
  {
   "cell_type": "code",
   "execution_count": 19,
   "metadata": {},
   "outputs": [
    {
     "name": "stdout",
     "output_type": "stream",
     "text": [
      "('A1', 'A1')\n",
      "[ 0.        +0.j  0.        +0.j -1.21239949+0.j]\n",
      "[ 0.        +0.j  0.        +0.j -0.63432652+0.j]\n",
      "[0.        +0.j 0.        +0.j 0.00158073+0.j]\n",
      "[0.        +0.j 0.        +0.j 0.00528235+0.j]\n",
      "[0.        +0.j 0.        +0.j 0.00041785+0.j]\n",
      "('A1', 'B2')\n",
      "[ 0.        +0.j  0.        +0.j 12.20517419+0.j]\n",
      "[ 0.        +0.j  0.        +0.j -0.00336005+0.j]\n",
      "[0.        +0.j 0.        +0.j 0.00414036+0.j]\n",
      "[ 0.        +0.j  0.        +0.j -0.01483761+0.j]\n",
      "[0.        +0.j 0.        +0.j 0.03046567+0.j]\n",
      "('B2', 'A1')\n",
      "[0.        +0.j 0.        +0.j 0.03321834+0.j]\n",
      "[ 0.        +0.j  0.        +0.j -0.00925734+0.j]\n",
      "[ 0.        +0.j  0.        +0.j -0.10239023+0.j]\n",
      "[ 0.        +0.j  0.        +0.j -0.01314003+0.j]\n",
      "[0.        +0.j 0.        +0.j 0.02775036+0.j]\n",
      "('B2', 'B2')\n",
      "[0.        +0.j 0.        +0.j 0.00385182+0.j]\n",
      "[ 0.        +0.j  0.        +0.j -0.01078235+0.j]\n",
      "[ 0.        +0.j  0.        +0.j -0.00294702+0.j]\n",
      "[0.        +0.j 0.        +0.j 0.00578717+0.j]\n",
      "[ 0.        +0.j  0.        +0.j -1.21804422+0.j]\n"
     ]
    }
   ],
   "source": [
    "for sym, val in rovib_sr1_me[(0, 2)].items():\n",
    "    print(sym)\n",
    "    print(val[0,0,:])\n",
    "    print(val[0,1,:])\n",
    "    print(val[0,2,:])\n",
    "    print(val[0,3,:])\n",
    "    print(val[0,4,:])\n"
   ]
  },
  {
   "cell_type": "code",
   "execution_count": 8,
   "metadata": {},
   "outputs": [
    {
     "name": "stdout",
     "output_type": "stream",
     "text": [
      "B1 (1517,) [ 3304.90655447  3306.25036378  3346.32166991 ... 28095.81400952\n",
      " 28152.60879763 38855.620538  ]\n",
      "B2 (1452,) [ 3310.53577666  3329.45817342  4493.67391267 ... 28124.183249\n",
      " 38857.87783848 38876.34592702]\n"
     ]
    }
   ],
   "source": [
    "f = 1\n",
    "\n",
    "enr, vec, qua = spinrot_xy2(\n",
    "    f,\n",
    "    rovib_enr,\n",
    "    rovib_qua,\n",
    "    rovib_sr1_me,\n",
    "    rovib_sr2_me,\n",
    "    spin_states=((0, \"B2\"), (1, \"A1\")),\n",
    "    spins=(0.5, 0.5)\n",
    ")\n",
    "for key, val in enr.items():\n",
    "    print(key, val.shape, val)"
   ]
  },
  {
   "cell_type": "code",
   "execution_count": 9,
   "metadata": {},
   "outputs": [
    {
     "name": "stdout",
     "output_type": "stream",
     "text": [
      "zpe: 3291.1602143624377\n",
      "[1.37463401e+01 1.50901494e+01 5.51614555e+01 ... 2.48046538e+04\n",
      " 2.48614486e+04 3.55644603e+04]\n"
     ]
    }
   ],
   "source": [
    "zpe = np.min([np.min(elem_) for elem in rovib_enr.values() for elem_ in elem.values()])\n",
    "print(\"zpe:\", zpe)\n",
    "\n",
    "# print(rovib_enr[1]['B1']-zpe)\n",
    "print(enr['B1']-zpe)\n"
   ]
  },
  {
   "cell_type": "code",
   "execution_count": 12,
   "metadata": {},
   "outputs": [
    {
     "name": "stdout",
     "output_type": "stream",
     "text": [
      "B1 [(1, 'A2', 0, 'B2'), (1, 'B1', 1, 'A1'), (2, 'B1', 1, 'A1')]\n",
      "B2 [(0, 'B2', 1, 'A1'), (1, 'A1', 0, 'B2'), (1, 'B2', 1, 'A1'), (2, 'B2', 1, 'A1')]\n"
     ]
    }
   ],
   "source": [
    "for sym, q in qua.items():\n",
    "    print(sym, q)"
   ]
  },
  {
   "cell_type": "code",
   "execution_count": null,
   "metadata": {},
   "outputs": [],
   "source": []
  }
 ],
 "metadata": {
  "kernelspec": {
   "display_name": "base",
   "language": "python",
   "name": "python3"
  },
  "language_info": {
   "codemirror_mode": {
    "name": "ipython",
    "version": 3
   },
   "file_extension": ".py",
   "mimetype": "text/x-python",
   "name": "python",
   "nbconvert_exporter": "python",
   "pygments_lexer": "ipython3",
   "version": "3.10.13"
  }
 },
 "nbformat": 4,
 "nbformat_minor": 2
}
