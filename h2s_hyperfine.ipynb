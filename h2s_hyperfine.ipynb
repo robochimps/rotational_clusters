{
 "cells": [
  {
   "cell_type": "code",
   "execution_count": 3,
   "metadata": {},
   "outputs": [
    {
     "name": "stderr",
     "output_type": "stream",
     "text": [
      "/gpfs/cfel/group/cmi/common/psi4/psi4conda/lib/python3.10/pty.py:89: RuntimeWarning: os.fork() was called. os.fork() is incompatible with multithreaded code, and JAX is multithreaded, so this will likely lead to a deadlock.\n",
      "  pid, fd = os.forkpty()\n"
     ]
    }
   ],
   "source": [
    "! export JAX_PLATFORMS=cpu"
   ]
  },
  {
   "cell_type": "markdown",
   "metadata": {},
   "source": [
    "# Hyperfine solutions for H2S molecule (spin-rotation interaction)\n",
    "\n"
   ]
  },
  {
   "cell_type": "code",
   "execution_count": 4,
   "metadata": {},
   "outputs": [],
   "source": [
    "import h5py\n",
    "import jax\n",
    "import numpy as np\n",
    "from jax import config\n",
    "from jax import numpy as jnp\n",
    "\n",
    "from rovib.symtop import threej_wang\n",
    "from rovib.cartens import CART_IND\n",
    "\n",
    "config.update(\"jax_enable_x64\", True)"
   ]
  },
  {
   "cell_type": "markdown",
   "metadata": {},
   "source": [
    "Read vibrational matrix elements of spin-rotation tensors and compute their matrix elements in rovibrational basis"
   ]
  },
  {
   "cell_type": "code",
   "execution_count": 5,
   "metadata": {},
   "outputs": [],
   "source": [
    "def tensor_rovib_me(\n",
    "    rank: int, j1: int, j2: int, vib_me, pmax: int = 20, linear: bool = False, tol=1e-12\n",
    "):\n",
    "    \"\"\"Computes rovibrational matrix elements of a Cartesian tensor operator.\n",
    "\n",
    "    This function calculates the rovibrational matrix elements using wavefunctions stored in \n",
    "    separate files for different values of the J quantum number (see `h2s_rovib.ipynb`). \n",
    "    The computation is performed for the specified bra (`j1`) and ket (`j2`) values of the J\n",
    "    quantum number.\n",
    "    \"\"\"\n",
    "\n",
    "    # determine the order of Cartesian indices in the Cartesian-to-spherical tensor\n",
    "    #   transformation matrix (in cartens.CART_IND and threej_wang)\n",
    "    cart_ind = [[\"xyz\".index(x) for x in elem] for elem in CART_IND[rank]]\n",
    "\n",
    "    # reshape vibrational matrix elements such that the order of Cartesian indices\n",
    "    #   correspond to the order in threej_wang output\n",
    "    vib_me_ = np.moveaxis([vib_me[:, :, i, j] for (i, j) in cart_ind], 0, -1)\n",
    "\n",
    "    # rotational matrix elements, rot_me[omega].shape = (nbas_rot, nbas_rot, ncart)\n",
    "    jktau_list1, jktau_list2, rot_me = threej_wang(rank, j1, j2, linear=linear)\n",
    "\n",
    "    h5_1 = h5py.File(f\"h2s_coefficients_pmax{pmax}_j{j1}.h5\", \"r\")\n",
    "    h5_2 = h5py.File(f\"h2s_coefficients_pmax{pmax}_j{j2}.h5\", \"r\")\n",
    "\n",
    "    res = {}\n",
    "\n",
    "    for sym1 in h5_1[\"energies\"].keys():\n",
    "        enr1 = h5_1[\"energies\"][sym1][:]\n",
    "        coefs1 = h5_1[\"coefficients\"][sym1][:]\n",
    "        vind1 = h5_1[\"vib-indices\"][sym1][:]\n",
    "        rind1 = h5_1[\"rot-indices\"][sym1][:]\n",
    "        qua1 = np.array(\n",
    "            [elem[0].decode(\"utf-8\").split(\",\") for elem in h5_1[\"quanta\"][sym1][:]]\n",
    "        )\n",
    "        for sym2 in h5_2[\"energies\"].keys():\n",
    "            enr2 = h5_2[\"energies\"][sym2][:]\n",
    "            coefs2 = h5_2[\"coefficients\"][sym2][:]\n",
    "            vind2 = h5_2[\"vib-indices\"][sym2][:]\n",
    "            rind2 = h5_2[\"rot-indices\"][sym2][:]\n",
    "            qua2 = np.array(\n",
    "                [elem[0].decode(\"utf-8\").split(\",\") for elem in h5_2[\"quanta\"][sym2][:]]\n",
    "            )\n",
    "\n",
    "            me = []\n",
    "            for omega in range(rank + 1):\n",
    "                me_ = np.einsum(\n",
    "                    \"ijc,ijc->ij\",\n",
    "                    vib_me_[np.ix_(vind1, vind2)],\n",
    "                    rot_me[omega][np.ix_(rind1, rind2)],\n",
    "                    optimize=\"optimal\",\n",
    "                )\n",
    "                me.append(\n",
    "                    np.einsum(\n",
    "                        \"ik,ij,jl->kl\", np.conj(coefs1), me_, coefs2, optimize=\"optimal\"\n",
    "                    )\n",
    "                )\n",
    "\n",
    "            me = np.array(me)\n",
    "            me[np.abs(me) < tol] = 0\n",
    "            if np.count_nonzero(me) > 0:\n",
    "                res[(sym1, sym2)] = np.array(me)\n",
    "\n",
    "    return res"
   ]
  },
  {
   "cell_type": "code",
   "execution_count": 16,
   "metadata": {},
   "outputs": [
    {
     "name": "stdout",
     "output_type": "stream",
     "text": [
      "60 60 [('A1', 'A1'), ('A1', 'B2'), ('A2', 'A2'), ('A2', 'B1'), ('B1', 'A2'), ('B1', 'B1'), ('B2', 'A1'), ('B2', 'B2')] [(3, 4869, 4869), (3, 4869, 4848), (3, 4653, 4653), (3, 4653, 4648), (3, 4648, 4653), (3, 4648, 4648), (3, 4848, 4869), (3, 4848, 4848)]\n"
     ]
    }
   ],
   "source": [
    "pmax = 20\n",
    "\n",
    "# read vibrational matrix elements of spin-rotation tensors\n",
    "\n",
    "with h5py.File(f\"h2s_vibme_pmax{pmax}.h5\", \"r\") as h5:\n",
    "    sr_h1_vib = h5[\"spin-rotation\"][\"h1\"][:]\n",
    "    sr_h2_vib = h5[\"spin-rotation\"][\"h2\"][:]\n",
    "\n",
    "# compute rovibrational matrix elements for different pairs of J quanta\n",
    "\n",
    "rank = 2\n",
    "max_j = 60\n",
    "min_j = 60\n",
    "me_sr1 = {}\n",
    "for j1 in range(min_j, max_j + 1):\n",
    "    for j2 in range(min_j, max_j + 1):\n",
    "        me = tensor_rovib_me(rank, j1, j2, sr_h1_vib)\n",
    "        print(j1, j2, list(me.keys()), [elem.shape for elem in me.values()])\n",
    "        me_sr1[(j1, j2)] = me"
   ]
  },
  {
   "cell_type": "code",
   "execution_count": 15,
   "metadata": {},
   "outputs": [
    {
     "name": "stdout",
     "output_type": "stream",
     "text": [
      "0\n",
      "[[0.+0.j 0.+0.j 0.+0.j ... 0.+0.j 0.+0.j 0.+0.j]\n",
      " [0.+0.j 0.+0.j 0.+0.j ... 0.+0.j 0.+0.j 0.+0.j]\n",
      " [0.+0.j 0.+0.j 0.+0.j ... 0.+0.j 0.+0.j 0.+0.j]\n",
      " ...\n",
      " [0.+0.j 0.+0.j 0.+0.j ... 0.+0.j 0.+0.j 0.+0.j]\n",
      " [0.+0.j 0.+0.j 0.+0.j ... 0.+0.j 0.+0.j 0.+0.j]\n",
      " [0.+0.j 0.+0.j 0.+0.j ... 0.+0.j 0.+0.j 0.+0.j]]\n",
      "1\n",
      "[[-7.81720144e-01+0.j -2.32290210e-04+0.j  1.82633560e-04+0.j ...\n",
      "   0.00000000e+00+0.j  0.00000000e+00+0.j  0.00000000e+00+0.j]\n",
      " [-2.32378453e-04+0.j  7.81720008e-01+0.j -3.66227922e-04+0.j ...\n",
      "   0.00000000e+00+0.j  0.00000000e+00+0.j  2.48821529e-12+0.j]\n",
      " [ 1.82433488e-04+0.j  3.66502418e-04+0.j  7.81719754e-01+0.j ...\n",
      "  -1.02879483e-12+0.j  2.01686733e-12+0.j  2.59723749e-11+0.j]\n",
      " ...\n",
      " [ 0.00000000e+00+0.j  1.53517628e-11+0.j  4.07084135e-11+0.j ...\n",
      "  -1.65814863e-02+0.j  1.41688069e-03+0.j -6.72200119e-05+0.j]\n",
      " [ 0.00000000e+00+0.j -1.08197883e-12+0.j -1.78160413e-12+0.j ...\n",
      "  -7.81507268e-01+0.j -5.71114566e-03+0.j -5.72321226e-06+0.j]\n",
      " [ 0.00000000e+00+0.j  0.00000000e+00+0.j  2.08339718e-12+0.j ...\n",
      "   5.68856151e-03+0.j -7.81696407e-01+0.j  1.35088656e-05+0.j]]\n",
      "2\n",
      "[[0.+0.j 0.+0.j 0.+0.j ... 0.+0.j 0.+0.j 0.+0.j]\n",
      " [0.+0.j 0.+0.j 0.+0.j ... 0.+0.j 0.+0.j 0.+0.j]\n",
      " [0.+0.j 0.+0.j 0.+0.j ... 0.+0.j 0.+0.j 0.+0.j]\n",
      " ...\n",
      " [0.+0.j 0.+0.j 0.+0.j ... 0.+0.j 0.+0.j 0.+0.j]\n",
      " [0.+0.j 0.+0.j 0.+0.j ... 0.+0.j 0.+0.j 0.+0.j]\n",
      " [0.+0.j 0.+0.j 0.+0.j ... 0.+0.j 0.+0.j 0.+0.j]]\n"
     ]
    }
   ],
   "source": [
    "j1, j2 = (0,1)\n",
    "sym1, sym2 = ('A1', 'B2')\n",
    "for omega, me in enumerate(me_sr1[(j1,j2)][(sym1, sym2)]):\n",
    "    print(omega)\n",
    "    print(me)"
   ]
  },
  {
   "cell_type": "code",
   "execution_count": null,
   "metadata": {},
   "outputs": [],
   "source": []
  }
 ],
 "metadata": {
  "kernelspec": {
   "display_name": "base",
   "language": "python",
   "name": "python3"
  },
  "language_info": {
   "codemirror_mode": {
    "name": "ipython",
    "version": 3
   },
   "file_extension": ".py",
   "mimetype": "text/x-python",
   "name": "python",
   "nbconvert_exporter": "python",
   "pygments_lexer": "ipython3",
   "version": "3.10.13"
  }
 },
 "nbformat": 4,
 "nbformat_minor": 2
}
