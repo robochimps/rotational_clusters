{
 "cells": [
  {
   "cell_type": "markdown",
   "metadata": {},
   "source": [
    "# Hyperfine solutions and spin-density for H2S\n",
    "\n",
    "Compute the hyperfine energies and wavefunctions for selected rotational cluster states of $\\text{H}_2\\text{S}$.\n",
    "The hyperfine interaction is represented by the spin-rotation coupling.\n",
    "\n",
    "We also compute the nuclear spin densities to verify if the ortho-para interaction can induce the nuclear spin polarisation."
   ]
  },
  {
   "cell_type": "code",
   "execution_count": 3,
   "metadata": {},
   "outputs": [
    {
     "name": "stderr",
     "output_type": "stream",
     "text": [
      "/gpfs/cfel/group/cmi/common/psi4/psi4conda/lib/python3.10/pty.py:89: RuntimeWarning: os.fork() was called. os.fork() is incompatible with multithreaded code, and JAX is multithreaded, so this will likely lead to a deadlock.\n",
      "  pid, fd = os.forkpty()\n"
     ]
    }
   ],
   "source": [
    "! export JAX_PLATFORMS=cpu"
   ]
  },
  {
   "cell_type": "code",
   "execution_count": 25,
   "metadata": {},
   "outputs": [],
   "source": [
    "from typing import Dict, List\n",
    "\n",
    "import h5py\n",
    "import hdfdict\n",
    "import jax\n",
    "import numpy as np\n",
    "from jax import config\n",
    "from jax import numpy as jnp\n",
    "from scipy import constants\n",
    "\n",
    "from rovib.cartens import CART_IND\n",
    "from rovib.spinrot_xy2 import spinrot_xy2\n",
    "from rovib.symtop import threej_wang\n",
    "\n",
    "config.update(\"jax_enable_x64\", True)\n",
    "KHZ_TO_INVCM = 1.0 / constants.value(\"speed of light in vacuum\") * 10"
   ]
  },
  {
   "cell_type": "code",
   "execution_count": 26,
   "metadata": {},
   "outputs": [],
   "source": [
    "with h5py.File(\"h2s_cluster_states_me.h5\", \"r\") as h5:\n",
    "    enr = hdfdict.load(h5.require_group(\"energies\"), False)\n",
    "    sr = hdfdict.load(h5.require_group(\"spin-rotation\"), False)\n",
    "\n",
    "enr = {\n",
    "    int(J): {sym: enr_sym for sym, enr_sym in enr_J.items()} for J, enr_J in enr.items()\n",
    "}\n",
    "\n",
    "sr_h1 = {\n",
    "    (int(J), int(J)): {\n",
    "        (sym1, sym2): me_sym2\n",
    "        for sym1, me_sym1 in me_J.items()\n",
    "        for sym2, me_sym2 in me_sym1.items()\n",
    "    }\n",
    "    for J, me_J in sr[\"h1\"].items()\n",
    "}\n",
    "\n",
    "sr_h2 = {\n",
    "    (int(J), int(J)): {\n",
    "        (sym1, sym2): me_sym2\n",
    "        for sym1, me_sym1 in me_J.items()\n",
    "        for sym2, me_sym2 in me_sym1.items()\n",
    "    }\n",
    "    for J, me_J in sr[\"h2\"].items()\n",
    "}"
   ]
  },
  {
   "cell_type": "code",
   "execution_count": 27,
   "metadata": {},
   "outputs": [
    {
     "data": {
      "text/plain": [
       "{50: {'A1': array([24708.81890006]),\n",
       "  'A2': array([24708.81879579]),\n",
       "  'B1': array([24708.81890005]),\n",
       "  'B2': array([24708.81879579])},\n",
       " 51: {'A1': array([25447.36424769]),\n",
       "  'A2': array([25447.36433043]),\n",
       "  'B1': array([25447.36424769]),\n",
       "  'B2': array([25447.36433042])},\n",
       " 52: {'A1': array([26191.9451634]),\n",
       "  'A2': array([26191.94505483]),\n",
       "  'B1': array([26191.9451634]),\n",
       "  'B2': array([26191.94505481])},\n",
       " 53: {'A1': array([26942.10734119]),\n",
       "  'A2': array([26942.11008082]),\n",
       "  'B1': array([26942.10807142]),\n",
       "  'B2': array([26942.11008082])},\n",
       " 54: {'A1': array([27697.40016773]),\n",
       "  'A2': array([27697.39981967]),\n",
       "  'B1': array([27697.40016774]),\n",
       "  'B2': array([27697.39981959])},\n",
       " 55: {'A1': array([28457.34565511]),\n",
       "  'A2': array([28457.34566424]),\n",
       "  'B1': array([28457.34565512]),\n",
       "  'B2': array([28457.34566424])},\n",
       " 56: {'A1': array([29221.46994552]),\n",
       "  'A2': array([29221.46994391]),\n",
       "  'B1': array([29221.46994552]),\n",
       "  'B2': array([29221.46994391])},\n",
       " 57: {'A1': array([29989.28428709]),\n",
       "  'A2': array([29989.28428741]),\n",
       "  'B1': array([29989.28428709]),\n",
       "  'B2': array([29989.28428741])},\n",
       " 58: {'A1': array([30760.28880531]),\n",
       "  'A2': array([30760.28880521]),\n",
       "  'B1': array([30760.2888053]),\n",
       "  'B2': array([30760.28880519])},\n",
       " 59: {'A1': array([31533.97094531]),\n",
       "  'A2': array([31533.97094536]),\n",
       "  'B1': array([31533.97094533]),\n",
       "  'B2': array([31533.97094536])},\n",
       " 60: {'A1': array([32309.80418416]),\n",
       "  'A2': array([32309.80418419]),\n",
       "  'B1': array([32309.80418416]),\n",
       "  'B2': array([32309.8041842])}}"
      ]
     },
     "execution_count": 27,
     "metadata": {},
     "output_type": "execute_result"
    }
   ],
   "source": [
    "# sr_h1[(50,50)][('A1','A1')].shape\n",
    "enr"
   ]
  },
  {
   "cell_type": "code",
   "execution_count": 32,
   "metadata": {},
   "outputs": [
    {
     "name": "stdout",
     "output_type": "stream",
     "text": [
      "0 0 50 50 A2 A2 [[0.+0.j]]\n",
      "0 1 50 50 A2 B1 [[-3.06568868e-05+0.j]]\n",
      "1 0 50 50 B1 A2 [[-3.06568868e-05+0.j]]\n",
      "1 1 50 50 B1 B1 [[-5.26985695e-07+0.j]]\n",
      "0 0 50 50 A1 A1 [[0.+0.j]]\n",
      "0 1 50 50 A1 B2 [[3.06568868e-05+0.j]]\n",
      "1 0 50 50 B2 A1 [[3.06568868e-05+0.j]]\n",
      "1 1 50 50 B2 B2 [[-5.26985669e-07+0.j]]\n",
      "B1 24708.81878741142 (50, 'A2', 0, 'B2') [-251.31312801] (-0.9645884203858242-0j)\n",
      "B1 24708.81890790879 (50, 'B1', 1, 'A1') [235.51446432] (0.9645884203858242+0j)\n",
      "B2 24708.818786957007 (50, 'B2', 1, 'A1') [-264.91295521] (-0.9651734896745006+0j)\n",
      "B2 24708.818908370573 (50, 'A1', 0, 'B2') [249.11429151] (-0.9651734896745006-0j)\n",
      "[24708.81878741 24708.81890791]\n",
      "[24708.81890005] [24708.81879579]\n"
     ]
    }
   ],
   "source": [
    "F = 50\n",
    "J = F\n",
    "\n",
    "hyper_enr, hyper_vec, hyper_qua = spinrot_xy2(\n",
    "    F,\n",
    "    {J: enr[J]},\n",
    "    {(J, J): sr_h1[(J, J)]},\n",
    "    {(J, J): sr_h2[(J, J)]},\n",
    "    spin_states=((0, \"B2\"), (1, \"A1\")),\n",
    "    spins=(0.5, 0.5),\n",
    ")\n",
    "\n",
    "for sym in hyper_enr.keys():\n",
    "    ind = np.argmax(hyper_vec[sym] ** 2, axis=0)\n",
    "    for ii, (e, i) in enumerate(zip(hyper_enr[sym], ind)):\n",
    "        qua = hyper_qua[sym][i]\n",
    "        rov_sym = qua[1]\n",
    "        print(\n",
    "            sym,\n",
    "            e,\n",
    "            hyper_qua[sym][i],\n",
    "            (e - enr[J][rov_sym]) / KHZ_TO_INVCM,\n",
    "            hyper_vec[sym][i, ii],\n",
    "        )\n",
    "\n",
    "print(hyper_enr[\"B1\"])\n",
    "print(enr[J][\"B1\"], enr[J][\"A2\"])\n",
    "\n",
    "# for key, val in hyper_enr.items():\n",
    "#     print(key, val.shape, val)\n",
    "# print(enr[J])"
   ]
  },
  {
   "cell_type": "code",
   "execution_count": null,
   "metadata": {},
   "outputs": [],
   "source": []
  }
 ],
 "metadata": {
  "kernelspec": {
   "display_name": "base",
   "language": "python",
   "name": "python3"
  },
  "language_info": {
   "codemirror_mode": {
    "name": "ipython",
    "version": 3
   },
   "file_extension": ".py",
   "mimetype": "text/x-python",
   "name": "python",
   "nbconvert_exporter": "python",
   "pygments_lexer": "ipython3",
   "version": "3.10.13"
  }
 },
 "nbformat": 4,
 "nbformat_minor": 2
}
